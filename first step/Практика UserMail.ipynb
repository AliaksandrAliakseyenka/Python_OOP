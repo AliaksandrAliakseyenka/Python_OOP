{
 "cells": [
  {
   "cell_type": "code",
   "execution_count": 71,
   "id": "440cd55e",
   "metadata": {},
   "outputs": [
    {
     "data": {
      "text/plain": [
       "'\\n1. конструктор .\\n__init_.\\n_ , принимающий 2 аргумента: логин и почтовый адрес. Их необходимо сохранить в экземпляр как\\nатрибуты login и __email (обратите внимание, защищенный атрибут)\\n2. метод геттер get_email , которое возвращает защищенный атрибут _email;\\n3. метод сеттер set_email , которое принимает в виде строки новую почту.\\nМетод должен проверять, что в новой почте есть только один символ @ и после нее есть точка.\\nЕсли данные условия выполняются, новая почта сохраняется в атрибут __email,\\nв противном случае выведите сообщение \"ErrorMail: «почта»\";\\n4. создайте свойство mail , у которого геттером будет метод get_email, а сеттером - метод set_email\\n'"
      ]
     },
     "execution_count": 71,
     "metadata": {},
     "output_type": "execute_result"
    }
   ],
   "source": [
    "#Создайте класс UserMail , у которого есть:\n",
    "\n",
    "\"\"\"\n",
    "1. конструктор .\n",
    "__init_.\n",
    "_ , принимающий 2 аргумента: логин и почтовый адрес. Их необходимо сохранить в экземпляр как\n",
    "атрибуты login и __email (обратите внимание, защищенный атрибут)\n",
    "2. метод геттер get_email , которое возвращает защищенный атрибут _email;\n",
    "3. метод сеттер set_email , которое принимает в виде строки новую почту.\n",
    "Метод должен проверять, что в новой почте есть только один символ @ и после нее есть точка.\n",
    "Если данные условия выполняются, новая почта сохраняется в атрибут __email,\n",
    "в противном случае выведите сообщение \"ErrorMail: «почта»\";\n",
    "4. создайте свойство mail , у которого геттером будет метод get_email, а сеттером - метод set_email\n",
    "\"\"\""
   ]
  },
  {
   "cell_type": "code",
   "execution_count": 82,
   "id": "33c61a2f",
   "metadata": {},
   "outputs": [],
   "source": [
    "class UserMail:\n",
    "\n",
    "    def __init__(self, login, email):\n",
    "        \n",
    "        if isinstance(email, str) and email.count('@') == 1 and \".\" in email[email.find('@'):]:\n",
    "            self.login = login\n",
    "            self.__email = email\n",
    "        else:\n",
    "            print(\"ErrorMail: «Некорректный e-mail»\")\n",
    "\n",
    "    def get_email(self):\n",
    "        return self.__email\n",
    "\n",
    "    def set_email(self, new_email):\n",
    "        if isinstance(new_email, str) \\\n",
    "            and new_email.count('@') == 1 \\\n",
    "                and \".\" in new_email[new_email.find('@'):]:\n",
    "            self.__email = new_email\n",
    "        else:\n",
    "            print(\"ErrorMail: «Некорректный e-mail»\")\n",
    "\n",
    "        self.new_email = new_email\n",
    "\n",
    "    email = property(fget=get_email, fset=set_email)\n"
   ]
  },
  {
   "cell_type": "code",
   "execution_count": 83,
   "id": "b5987293",
   "metadata": {},
   "outputs": [],
   "source": [
    "user_one = UserMail(\"Alex\", \"alex@gmail.com\")"
   ]
  },
  {
   "cell_type": "code",
   "execution_count": 84,
   "id": "ffa8ebf0",
   "metadata": {},
   "outputs": [
    {
     "data": {
      "text/plain": [
       "'alex@gmail.com'"
      ]
     },
     "execution_count": 84,
     "metadata": {},
     "output_type": "execute_result"
    }
   ],
   "source": [
    "user_one.get_email()"
   ]
  },
  {
   "cell_type": "code",
   "execution_count": 85,
   "id": "8f32ef4d",
   "metadata": {},
   "outputs": [],
   "source": [
    "user_one.set_email(\"alex007@gmail.com\")"
   ]
  },
  {
   "cell_type": "code",
   "execution_count": 86,
   "id": "b6720b54",
   "metadata": {},
   "outputs": [
    {
     "data": {
      "text/plain": [
       "'alex007@gmail.com'"
      ]
     },
     "execution_count": 86,
     "metadata": {},
     "output_type": "execute_result"
    }
   ],
   "source": [
    "user_one.get_email()"
   ]
  },
  {
   "cell_type": "code",
   "execution_count": 87,
   "id": "e6bf77a0",
   "metadata": {},
   "outputs": [
    {
     "name": "stdout",
     "output_type": "stream",
     "text": [
      "ErrorMail: «Некорректный e-mail»\n"
     ]
    }
   ],
   "source": [
    "user_one.set_email([1,2,3,4])"
   ]
  },
  {
   "cell_type": "code",
   "execution_count": 88,
   "id": "dad3f8e3",
   "metadata": {},
   "outputs": [
    {
     "name": "stdout",
     "output_type": "stream",
     "text": [
      "ErrorMail: «Некорректный e-mail»\n"
     ]
    }
   ],
   "source": [
    "user_one.set_email({\"email\":\"alex@gmail.com\"})"
   ]
  },
  {
   "cell_type": "code",
   "execution_count": 89,
   "id": "033afc16",
   "metadata": {},
   "outputs": [
    {
     "data": {
      "text/plain": [
       "'alex007@gmail.com'"
      ]
     },
     "execution_count": 89,
     "metadata": {},
     "output_type": "execute_result"
    }
   ],
   "source": [
    "user_one.email"
   ]
  },
  {
   "cell_type": "code",
   "execution_count": 90,
   "id": "1c3e8c6a",
   "metadata": {},
   "outputs": [],
   "source": [
    "user_two = UserMail(\"Dima\", \"Dima@gmail.com\")"
   ]
  },
  {
   "cell_type": "code",
   "execution_count": 91,
   "id": "01ae6fc4",
   "metadata": {},
   "outputs": [
    {
     "data": {
      "text/plain": [
       "'Dima@gmail.com'"
      ]
     },
     "execution_count": 91,
     "metadata": {},
     "output_type": "execute_result"
    }
   ],
   "source": [
    "user_two.email"
   ]
  },
  {
   "cell_type": "code",
   "execution_count": 95,
   "id": "0c8812e2",
   "metadata": {},
   "outputs": [],
   "source": [
    "user_two.email = \"Dima007@gmail.com\""
   ]
  },
  {
   "cell_type": "code",
   "execution_count": 96,
   "id": "442bdfac",
   "metadata": {},
   "outputs": [
    {
     "data": {
      "text/plain": [
       "'Dima007@gmail.com'"
      ]
     },
     "execution_count": 96,
     "metadata": {},
     "output_type": "execute_result"
    }
   ],
   "source": [
    "user_two.email"
   ]
  }
 ],
 "metadata": {
  "kernelspec": {
   "display_name": "Python 3 (ipykernel)",
   "language": "python",
   "name": "python3"
  },
  "language_info": {
   "codemirror_mode": {
    "name": "ipython",
    "version": 3
   },
   "file_extension": ".py",
   "mimetype": "text/x-python",
   "name": "python",
   "nbconvert_exporter": "python",
   "pygments_lexer": "ipython3",
   "version": "3.11.1"
  }
 },
 "nbformat": 4,
 "nbformat_minor": 5
}
