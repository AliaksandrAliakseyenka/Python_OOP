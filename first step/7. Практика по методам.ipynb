{
 "cells": [
  {
   "cell_type": "code",
   "execution_count": 1,
   "id": "858bd9b5",
   "metadata": {},
   "outputs": [],
   "source": [
    "class Point:\n",
    "    \n",
    "    # Конструктор класса\n",
    "    # Сделаю по умолчанию, что бы мог создать пустой экземпляр \n",
    "    \n",
    "    # В методе init принимаем два аргумента coord_x coord_y, затем эти аргументы проставляем атрибутам\n",
    "    def __init__(self, coord_x = 0, coord_y = 0):\n",
    "        self.x = coord_x\n",
    "        self.y = coord_y\n",
    "    \n",
    "    # Разница с init в том, что init вызывается автоматически, а метод move_to в ручную \n",
    "    def move_to (self, new_x , new_y):\n",
    "        self.x = new_x\n",
    "        self.y = new_y\n",
    "        \n",
    "    # Разница с init в том, что init вызывается автоматически, а метод move_to в ручную \n",
    "    def go_to_zero (self):\n",
    "        self.x = 0\n",
    "        self.y = 0\n",
    "    "
   ]
  },
  {
   "cell_type": "code",
   "execution_count": 2,
   "id": "40db5e3e",
   "metadata": {},
   "outputs": [],
   "source": [
    "point_one = Point(3,4)\n",
    "point_two = Point(-5,-8)"
   ]
  },
  {
   "cell_type": "code",
   "execution_count": 3,
   "id": "a5bf589f",
   "metadata": {},
   "outputs": [
    {
     "data": {
      "text/plain": [
       "{'x': 3, 'y': 4}"
      ]
     },
     "execution_count": 3,
     "metadata": {},
     "output_type": "execute_result"
    }
   ],
   "source": [
    "point_one.__dict__"
   ]
  },
  {
   "cell_type": "code",
   "execution_count": 4,
   "id": "16e710de",
   "metadata": {},
   "outputs": [
    {
     "data": {
      "text/plain": [
       "{'x': -5, 'y': -8}"
      ]
     },
     "execution_count": 4,
     "metadata": {},
     "output_type": "execute_result"
    }
   ],
   "source": [
    "point_two.__dict__"
   ]
  },
  {
   "cell_type": "code",
   "execution_count": 5,
   "id": "0e86e7b0",
   "metadata": {},
   "outputs": [
    {
     "data": {
      "text/plain": [
       "{'x': 4, 'y': 5}"
      ]
     },
     "execution_count": 5,
     "metadata": {},
     "output_type": "execute_result"
    }
   ],
   "source": [
    "point_tree = Point()\n",
    "point_tree.move_to(4,5)\n",
    "point_tree.__dict__"
   ]
  },
  {
   "cell_type": "code",
   "execution_count": 6,
   "id": "e96b3cc1",
   "metadata": {},
   "outputs": [],
   "source": [
    "# Редактирую код так, что бы вызывать внутри одного метода другой\n",
    "# Принцип написание кода D R Y \n",
    "\n",
    "from math import sqrt\n",
    "class Point:\n",
    "    \n",
    "    #Атрибут который будет иметь расспосранение на весь класс\n",
    "    list_point = list()\n",
    " \n",
    "    def __init__(self, coord_x = 0, coord_y = 0):\n",
    "        self.move_to(coord_x,coord_y)\n",
    "        #Через Point\n",
    "        Point.list_point.append(self)\n",
    "        \n",
    " \n",
    "    def move_to (self, new_x , new_y):\n",
    "        self.x = new_x\n",
    "        self.y = new_y\n",
    "        \n",
    "    def go_to_zero (self):\n",
    "    #метод вызывается от обьекта\n",
    "        self.move_to(0,0)\n",
    "    \n",
    "    def print_point(self):\n",
    "        print(f\"Точка с координатами ({self.x},{self.y})\")\n",
    "        \n",
    "    #Метод который позволит работать с нескольми Экземпляроми\n",
    "    def calc_distance(self, another_point):\n",
    "        if not isinstance(another_point, Point):\n",
    "            raise ValueError(\"Аргумент должен принадлежать классу Point\")\n",
    "            \n",
    "        return sqrt((self.x - another_point.x) ** 2 + (self.y - another_point.y) **2)         \n",
    "        \n",
    "    \n",
    "        \n",
    "       \n",
    "    \n"
   ]
  },
  {
   "cell_type": "code",
   "execution_count": 7,
   "id": "d007e80d",
   "metadata": {},
   "outputs": [
    {
     "data": {
      "text/plain": [
       "{'x': 4, 'y': 0}"
      ]
     },
     "execution_count": 7,
     "metadata": {},
     "output_type": "execute_result"
    }
   ],
   "source": [
    "point_four = Point(4)\n",
    "point_four.__dict__"
   ]
  },
  {
   "cell_type": "code",
   "execution_count": 8,
   "id": "82d39b1f",
   "metadata": {},
   "outputs": [
    {
     "data": {
      "text/plain": [
       "{'x': 4, 'y': 8}"
      ]
     },
     "execution_count": 8,
     "metadata": {},
     "output_type": "execute_result"
    }
   ],
   "source": [
    "point_four.move_to(4,8)\n",
    "point_four.__dict__"
   ]
  },
  {
   "cell_type": "code",
   "execution_count": 9,
   "id": "c1782686",
   "metadata": {},
   "outputs": [
    {
     "data": {
      "text/plain": [
       "{'x': 0, 'y': 0}"
      ]
     },
     "execution_count": 9,
     "metadata": {},
     "output_type": "execute_result"
    }
   ],
   "source": [
    "point_four.go_to_zero()\n",
    "point_four.__dict__"
   ]
  },
  {
   "cell_type": "code",
   "execution_count": 10,
   "id": "fc4d3527",
   "metadata": {},
   "outputs": [
    {
     "data": {
      "text/plain": [
       "<__main__.Point at 0x11bd1d7d0>"
      ]
     },
     "execution_count": 10,
     "metadata": {},
     "output_type": "execute_result"
    }
   ],
   "source": [
    "point_four"
   ]
  },
  {
   "cell_type": "code",
   "execution_count": 11,
   "id": "797a2e7b",
   "metadata": {},
   "outputs": [
    {
     "name": "stdout",
     "output_type": "stream",
     "text": [
      "Точка с координатами (0,0)\n"
     ]
    }
   ],
   "source": [
    "point_five = Point()\n",
    "point_five.print_point()"
   ]
  },
  {
   "cell_type": "code",
   "execution_count": 12,
   "id": "8dc9d8d2",
   "metadata": {},
   "outputs": [
    {
     "name": "stdout",
     "output_type": "stream",
     "text": [
      "Точка с координатами (5,24)\n"
     ]
    }
   ],
   "source": [
    "point_five.move_to(5,24)\n",
    "point_five.print_point()"
   ]
  },
  {
   "cell_type": "code",
   "execution_count": 13,
   "id": "2c934031",
   "metadata": {},
   "outputs": [],
   "source": [
    "point_six = Point(6,0)\n",
    "point_seven = Point(0,8)"
   ]
  },
  {
   "cell_type": "code",
   "execution_count": 14,
   "id": "79ddb78a",
   "metadata": {},
   "outputs": [
    {
     "data": {
      "text/plain": [
       "{'x': 6, 'y': 0}"
      ]
     },
     "execution_count": 14,
     "metadata": {},
     "output_type": "execute_result"
    }
   ],
   "source": [
    "point_six.__dict__"
   ]
  },
  {
   "cell_type": "code",
   "execution_count": 15,
   "id": "9d9c5907",
   "metadata": {},
   "outputs": [
    {
     "data": {
      "text/plain": [
       "{'x': 0, 'y': 8}"
      ]
     },
     "execution_count": 15,
     "metadata": {},
     "output_type": "execute_result"
    }
   ],
   "source": [
    "point_seven.__dict__"
   ]
  },
  {
   "cell_type": "code",
   "execution_count": 22,
   "id": "532bccb4",
   "metadata": {},
   "outputs": [
    {
     "data": {
      "text/plain": [
       "10.0"
      ]
     },
     "execution_count": 22,
     "metadata": {},
     "output_type": "execute_result"
    }
   ],
   "source": [
    "# Вызываю метод def calc_distance\n",
    "point_six.calc_distance(point_seven)"
   ]
  },
  {
   "cell_type": "code",
   "execution_count": 23,
   "id": "6019cba2",
   "metadata": {},
   "outputs": [
    {
     "data": {
      "text/plain": [
       "[<__main__.Point at 0x106dc4250>,\n",
       " <__main__.Point at 0x106daafd0>,\n",
       " <__main__.Point at 0x106dab5d0>,\n",
       " <__main__.Point at 0x106da9850>]"
      ]
     },
     "execution_count": 23,
     "metadata": {},
     "output_type": "execute_result"
    }
   ],
   "source": [
    "Point.list_point"
   ]
  },
  {
   "cell_type": "code",
   "execution_count": 24,
   "id": "7814b4df",
   "metadata": {},
   "outputs": [
    {
     "data": {
      "text/plain": [
       "<__main__.Point at 0x106daafd0>"
      ]
     },
     "execution_count": 24,
     "metadata": {},
     "output_type": "execute_result"
    }
   ],
   "source": [
    "# Так, как это список можно обратиться по индексу\n",
    "Point.list_point[1]"
   ]
  },
  {
   "cell_type": "code",
   "execution_count": 25,
   "id": "f26490eb",
   "metadata": {},
   "outputs": [
    {
     "data": {
      "text/plain": [
       "5"
      ]
     },
     "execution_count": 25,
     "metadata": {},
     "output_type": "execute_result"
    }
   ],
   "source": [
    "# Является обьектом класса Point можем брать его атрибуты\n",
    "Point.list_point[1].x"
   ]
  },
  {
   "cell_type": "code",
   "execution_count": 26,
   "id": "ab9de82d",
   "metadata": {},
   "outputs": [
    {
     "data": {
      "text/plain": [
       "24"
      ]
     },
     "execution_count": 26,
     "metadata": {},
     "output_type": "execute_result"
    }
   ],
   "source": [
    "# Является обьектом класса Point можем брать его атрибуты\n",
    "Point.list_point[1].y"
   ]
  }
 ],
 "metadata": {
  "kernelspec": {
   "display_name": "Python 3 (ipykernel)",
   "language": "python",
   "name": "python3"
  },
  "language_info": {
   "codemirror_mode": {
    "name": "ipython",
    "version": 3
   },
   "file_extension": ".py",
   "mimetype": "text/x-python",
   "name": "python",
   "nbconvert_exporter": "python",
   "pygments_lexer": "ipython3",
   "version": "3.11.1"
  }
 },
 "nbformat": 4,
 "nbformat_minor": 5
}
