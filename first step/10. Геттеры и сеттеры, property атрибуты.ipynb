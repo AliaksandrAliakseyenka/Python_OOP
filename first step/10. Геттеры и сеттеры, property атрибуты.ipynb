{
 "cells": [
  {
   "cell_type": "code",
   "execution_count": 53,
   "id": "5ff3e779",
   "metadata": {},
   "outputs": [],
   "source": [
    "#Property. getter метод и setter метод"
   ]
  },
  {
   "cell_type": "code",
   "execution_count": 100,
   "id": "ac030708",
   "metadata": {},
   "outputs": [],
   "source": [
    "class BankAccount:\n",
    "    \n",
    "    def __init__(self,name,balance):\n",
    "        self.name = name \n",
    "        self.__balance = balance\n",
    "        \n",
    "    def get_balance(self):\n",
    "        print(f\"get_balance : {self.__balance}\")\n",
    "        return self.__balance\n",
    "    \n",
    "    def set_balance(self, value):\n",
    "        print(f\"set_balance : {value}\")\n",
    "        if not isinstance(value, (int, float)):\n",
    "            raise ValueError (\"Balance must be a number\")\n",
    "        self.__balance = value\n",
    "        \n",
    "    def delete_balance(self):\n",
    "        print('Delete balance')\n",
    "        del self.__balance\n",
    "        \n",
    "    balance = property(fget =get_balance ,fset =set_balance, fdel = delete_balance)\n",
    "    \n",
    "        \n",
    "        "
   ]
  },
  {
   "cell_type": "code",
   "execution_count": 101,
   "id": "60b06a27",
   "metadata": {},
   "outputs": [],
   "source": [
    "a = BankAccount('Ivan',30)"
   ]
  },
  {
   "cell_type": "code",
   "execution_count": 102,
   "id": "ea0757ee",
   "metadata": {},
   "outputs": [],
   "source": [
    "b = BankAccount(\"Alex\",100)"
   ]
  },
  {
   "cell_type": "code",
   "execution_count": 103,
   "id": "57e0a53f",
   "metadata": {},
   "outputs": [
    {
     "name": "stdout",
     "output_type": "stream",
     "text": [
      "get_balance : 100\n"
     ]
    },
    {
     "data": {
      "text/plain": [
       "100"
      ]
     },
     "execution_count": 103,
     "metadata": {},
     "output_type": "execute_result"
    }
   ],
   "source": [
    "b.get_balance()"
   ]
  },
  {
   "cell_type": "code",
   "execution_count": 104,
   "id": "ccdadf08",
   "metadata": {},
   "outputs": [
    {
     "name": "stdout",
     "output_type": "stream",
     "text": [
      "set_balance : 120\n"
     ]
    }
   ],
   "source": [
    "b.set_balance(120)"
   ]
  },
  {
   "cell_type": "code",
   "execution_count": 105,
   "id": "302953fa",
   "metadata": {},
   "outputs": [
    {
     "data": {
      "text/plain": [
       "{'name': 'Alex', '_BankAccount__balance': 120}"
      ]
     },
     "execution_count": 105,
     "metadata": {},
     "output_type": "execute_result"
    }
   ],
   "source": [
    "b.__dict__"
   ]
  },
  {
   "cell_type": "code",
   "execution_count": 106,
   "id": "d1fdccc8",
   "metadata": {},
   "outputs": [
    {
     "name": "stdout",
     "output_type": "stream",
     "text": [
      "set_balance : I\n"
     ]
    },
    {
     "ename": "ValueError",
     "evalue": "Balance must be a number",
     "output_type": "error",
     "traceback": [
      "\u001b[0;31m---------------------------------------------------------------------------\u001b[0m",
      "\u001b[0;31mValueError\u001b[0m                                Traceback (most recent call last)",
      "Cell \u001b[0;32mIn [106], line 1\u001b[0m\n\u001b[0;32m----> 1\u001b[0m \u001b[43mb\u001b[49m\u001b[38;5;241;43m.\u001b[39;49m\u001b[43mset_balance\u001b[49m\u001b[43m(\u001b[49m\u001b[38;5;124;43m'\u001b[39;49m\u001b[38;5;124;43mI\u001b[39;49m\u001b[38;5;124;43m'\u001b[39;49m\u001b[43m)\u001b[49m\n",
      "Cell \u001b[0;32mIn [100], line 14\u001b[0m, in \u001b[0;36mBankAccount.set_balance\u001b[0;34m(self, value)\u001b[0m\n\u001b[1;32m     12\u001b[0m \u001b[38;5;28mprint\u001b[39m(\u001b[38;5;124mf\u001b[39m\u001b[38;5;124m\"\u001b[39m\u001b[38;5;124mset_balance : \u001b[39m\u001b[38;5;132;01m{\u001b[39;00mvalue\u001b[38;5;132;01m}\u001b[39;00m\u001b[38;5;124m\"\u001b[39m)\n\u001b[1;32m     13\u001b[0m \u001b[38;5;28;01mif\u001b[39;00m \u001b[38;5;129;01mnot\u001b[39;00m \u001b[38;5;28misinstance\u001b[39m(value, (\u001b[38;5;28mint\u001b[39m, \u001b[38;5;28mfloat\u001b[39m)):\n\u001b[0;32m---> 14\u001b[0m     \u001b[38;5;28;01mraise\u001b[39;00m \u001b[38;5;167;01mValueError\u001b[39;00m (\u001b[38;5;124m\"\u001b[39m\u001b[38;5;124mBalance must be a number\u001b[39m\u001b[38;5;124m\"\u001b[39m)\n\u001b[1;32m     15\u001b[0m \u001b[38;5;28mself\u001b[39m\u001b[38;5;241m.\u001b[39m__balance \u001b[38;5;241m=\u001b[39m value\n",
      "\u001b[0;31mValueError\u001b[0m: Balance must be a number"
     ]
    }
   ],
   "source": [
    "b.set_balance('I')"
   ]
  },
  {
   "cell_type": "code",
   "execution_count": 107,
   "id": "c35fa983",
   "metadata": {},
   "outputs": [
    {
     "name": "stdout",
     "output_type": "stream",
     "text": [
      "set_balance : 199\n"
     ]
    }
   ],
   "source": [
    "b.set_balance(199)"
   ]
  },
  {
   "cell_type": "code",
   "execution_count": 108,
   "id": "7524ff58",
   "metadata": {},
   "outputs": [],
   "source": [
    "d = BankAccount('Misha',399)"
   ]
  },
  {
   "cell_type": "code",
   "execution_count": 109,
   "id": "9a8025f8",
   "metadata": {},
   "outputs": [
    {
     "name": "stdout",
     "output_type": "stream",
     "text": [
      "get_balance : 399\n"
     ]
    },
    {
     "data": {
      "text/plain": [
       "399"
      ]
     },
     "execution_count": 109,
     "metadata": {},
     "output_type": "execute_result"
    }
   ],
   "source": [
    "d.balance"
   ]
  },
  {
   "cell_type": "code",
   "execution_count": 110,
   "id": "43eaae05",
   "metadata": {},
   "outputs": [
    {
     "name": "stdout",
     "output_type": "stream",
     "text": [
      "set_balance : 2222\n"
     ]
    }
   ],
   "source": [
    "d.balance = 2222"
   ]
  },
  {
   "cell_type": "code",
   "execution_count": 111,
   "id": "7c47f261",
   "metadata": {},
   "outputs": [
    {
     "name": "stdout",
     "output_type": "stream",
     "text": [
      "get_balance : 2222\n"
     ]
    },
    {
     "data": {
      "text/plain": [
       "2222"
      ]
     },
     "execution_count": 111,
     "metadata": {},
     "output_type": "execute_result"
    }
   ],
   "source": [
    "d.balance"
   ]
  },
  {
   "cell_type": "code",
   "execution_count": 113,
   "id": "fd3ebcd8",
   "metadata": {},
   "outputs": [],
   "source": [
    "w = BankAccount('Misha',399)"
   ]
  },
  {
   "cell_type": "code",
   "execution_count": 119,
   "id": "0ef42b80",
   "metadata": {},
   "outputs": [
    {
     "data": {
      "text/plain": [
       "{'name': 'Misha', '_BankAccount__balance': 399}"
      ]
     },
     "execution_count": 119,
     "metadata": {},
     "output_type": "execute_result"
    }
   ],
   "source": [
    "w.__dict__\n"
   ]
  },
  {
   "cell_type": "code",
   "execution_count": 120,
   "id": "724786f9",
   "metadata": {},
   "outputs": [
    {
     "name": "stdout",
     "output_type": "stream",
     "text": [
      "get_balance : 399\n"
     ]
    },
    {
     "data": {
      "text/plain": [
       "399"
      ]
     },
     "execution_count": 120,
     "metadata": {},
     "output_type": "execute_result"
    }
   ],
   "source": [
    "w.balance"
   ]
  },
  {
   "cell_type": "code",
   "execution_count": 121,
   "id": "99e18ec2",
   "metadata": {},
   "outputs": [
    {
     "name": "stdout",
     "output_type": "stream",
     "text": [
      "set_balance : 300\n"
     ]
    }
   ],
   "source": [
    "w.balance = 300"
   ]
  },
  {
   "cell_type": "code",
   "execution_count": 122,
   "id": "65c9786e",
   "metadata": {},
   "outputs": [
    {
     "name": "stdout",
     "output_type": "stream",
     "text": [
      "Delete balance\n"
     ]
    }
   ],
   "source": [
    "del w.balance"
   ]
  },
  {
   "cell_type": "code",
   "execution_count": 124,
   "id": "700ac060",
   "metadata": {},
   "outputs": [
    {
     "name": "stdout",
     "output_type": "stream",
     "text": [
      "set_balance : 399\n"
     ]
    }
   ],
   "source": [
    "w.balance = 399"
   ]
  }
 ],
 "metadata": {
  "kernelspec": {
   "display_name": "Python 3 (ipykernel)",
   "language": "python",
   "name": "python3"
  },
  "language_info": {
   "codemirror_mode": {
    "name": "ipython",
    "version": 3
   },
   "file_extension": ".py",
   "mimetype": "text/x-python",
   "name": "python",
   "nbconvert_exporter": "python",
   "pygments_lexer": "ipython3",
   "version": "3.11.1"
  }
 },
 "nbformat": 4,
 "nbformat_minor": 5
}
