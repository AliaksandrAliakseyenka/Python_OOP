{
 "cells": [
  {
   "cell_type": "code",
   "execution_count": 53,
   "id": "b8534de2",
   "metadata": {},
   "outputs": [],
   "source": [
    "class Car:\n",
    "    \n",
    "    def __init__(self, car_model, car_engine):\n",
    "        self.car_model = car_model\n",
    "        self.car_engine = car_engine\n",
    "        \n",
    "        \n",
    "    def __repr__(self):\n",
    "        return f\"The object Car - {self.car_model}\"\n",
    "    \n",
    "    \n",
    "    def __str__(self):\n",
    "        return f\"Car - {self.car_model}\"\n",
    "    "
   ]
  },
  {
   "cell_type": "code",
   "execution_count": null,
   "id": "9ea8f69f",
   "metadata": {},
   "outputs": [],
   "source": [
    "'''\n",
    "__str__() – магический метод для отображения информации\n",
    "об объекте класса для пользователей (например, для функций print, str);\n",
    "\n",
    "__repr__() – магический метод для отображения информации\n",
    "об объекте класса в режиме отладки (для разработчиков).\n",
    "'''"
   ]
  },
  {
   "cell_type": "code",
   "execution_count": 70,
   "id": "0241e299",
   "metadata": {},
   "outputs": [],
   "source": [
    "bmw = Car(\"BMW\", 3.0)"
   ]
  },
  {
   "cell_type": "code",
   "execution_count": 71,
   "id": "14724e62",
   "metadata": {},
   "outputs": [
    {
     "name": "stdout",
     "output_type": "stream",
     "text": [
      "Car - BMW\n"
     ]
    }
   ],
   "source": [
    "print(bmw)"
   ]
  },
  {
   "cell_type": "code",
   "execution_count": 72,
   "id": "bf5c1a0d",
   "metadata": {},
   "outputs": [
    {
     "data": {
      "text/plain": [
       "'Car - BMW'"
      ]
     },
     "execution_count": 72,
     "metadata": {},
     "output_type": "execute_result"
    }
   ],
   "source": [
    "str(bmw)"
   ]
  },
  {
   "cell_type": "code",
   "execution_count": 73,
   "id": "310d45b9",
   "metadata": {},
   "outputs": [
    {
     "data": {
      "text/plain": [
       "<__main__.Car at 0x114709450>"
      ]
     },
     "execution_count": 73,
     "metadata": {},
     "output_type": "execute_result"
    }
   ],
   "source": [
    "bmw"
   ]
  },
  {
   "cell_type": "code",
   "execution_count": 74,
   "id": "a5ab9055",
   "metadata": {},
   "outputs": [],
   "source": [
    "vw = Car(\"VW\", 1.6)"
   ]
  },
  {
   "cell_type": "code",
   "execution_count": 75,
   "id": "c4a26b0b",
   "metadata": {},
   "outputs": [
    {
     "data": {
      "text/plain": [
       "<__main__.Car at 0x114753c50>"
      ]
     },
     "execution_count": 75,
     "metadata": {},
     "output_type": "execute_result"
    }
   ],
   "source": [
    "vw"
   ]
  },
  {
   "cell_type": "code",
   "execution_count": 76,
   "id": "a6977b44",
   "metadata": {},
   "outputs": [
    {
     "data": {
      "text/plain": [
       "'Car - VW'"
      ]
     },
     "execution_count": 76,
     "metadata": {},
     "output_type": "execute_result"
    }
   ],
   "source": [
    "str(vw)"
   ]
  },
  {
   "cell_type": "code",
   "execution_count": 69,
   "id": "f0575055",
   "metadata": {},
   "outputs": [
    {
     "name": "stdout",
     "output_type": "stream",
     "text": [
      "Car - VW\n"
     ]
    }
   ],
   "source": [
    "print(vw)"
   ]
  }
 ],
 "metadata": {
  "kernelspec": {
   "display_name": "Python 3 (ipykernel)",
   "language": "python",
   "name": "python3"
  },
  "language_info": {
   "codemirror_mode": {
    "name": "ipython",
    "version": 3
   },
   "file_extension": ".py",
   "mimetype": "text/x-python",
   "name": "python",
   "nbconvert_exporter": "python",
   "pygments_lexer": "ipython3",
   "version": "3.11.1"
  }
 },
 "nbformat": 4,
 "nbformat_minor": 5
}
