{
 "cells": [
  {
   "cell_type": "code",
   "execution_count": 30,
   "id": "c113d970",
   "metadata": {},
   "outputs": [],
   "source": [
    "#Моносостояние для всех экземпляров \n",
    "\n",
    "class Cat:\n",
    "    __shared_attr = {\n",
    "        'breed' : 'pearc',\n",
    "        'color' : 'black'     \n",
    "    }\n",
    "    \n",
    "    def __init__ (self):\n",
    "        self.__dict__ = Cat.__shared_attr"
   ]
  },
  {
   "cell_type": "code",
   "execution_count": 31,
   "id": "ab8f2601",
   "metadata": {},
   "outputs": [],
   "source": [
    "d = Cat()"
   ]
  },
  {
   "cell_type": "code",
   "execution_count": 32,
   "id": "b1b5f92c",
   "metadata": {},
   "outputs": [],
   "source": [
    "g = Cat()"
   ]
  },
  {
   "cell_type": "code",
   "execution_count": 33,
   "id": "a43f2872",
   "metadata": {
    "scrolled": true
   },
   "outputs": [
    {
     "data": {
      "text/plain": [
       "{'breed': 'pearc', 'color': 'black'}"
      ]
     },
     "execution_count": 33,
     "metadata": {},
     "output_type": "execute_result"
    }
   ],
   "source": [
    "d.__dict__"
   ]
  },
  {
   "cell_type": "code",
   "execution_count": 34,
   "id": "84fdef7c",
   "metadata": {},
   "outputs": [
    {
     "data": {
      "text/plain": [
       "{'breed': 'pearc', 'color': 'black'}"
      ]
     },
     "execution_count": 34,
     "metadata": {},
     "output_type": "execute_result"
    }
   ],
   "source": [
    "g.__dict__"
   ]
  },
  {
   "cell_type": "code",
   "execution_count": 35,
   "id": "6b194612",
   "metadata": {},
   "outputs": [],
   "source": [
    "d.breed = 'siam'"
   ]
  },
  {
   "cell_type": "code",
   "execution_count": 36,
   "id": "6f4fb925",
   "metadata": {},
   "outputs": [
    {
     "data": {
      "text/plain": [
       "{'breed': 'siam', 'color': 'black'}"
      ]
     },
     "execution_count": 36,
     "metadata": {},
     "output_type": "execute_result"
    }
   ],
   "source": [
    "d.__dict__"
   ]
  },
  {
   "cell_type": "code",
   "execution_count": 37,
   "id": "b23ea29d",
   "metadata": {},
   "outputs": [
    {
     "data": {
      "text/plain": [
       "{'breed': 'siam', 'color': 'black'}"
      ]
     },
     "execution_count": 37,
     "metadata": {},
     "output_type": "execute_result"
    }
   ],
   "source": [
    "g.__dict__"
   ]
  },
  {
   "cell_type": "code",
   "execution_count": 38,
   "id": "f252290f",
   "metadata": {},
   "outputs": [],
   "source": [
    "new_cat = Cat()"
   ]
  },
  {
   "cell_type": "code",
   "execution_count": 39,
   "id": "149249ac",
   "metadata": {},
   "outputs": [],
   "source": [
    "new_cat.color = \"white\""
   ]
  },
  {
   "cell_type": "code",
   "execution_count": 44,
   "id": "976e26b2",
   "metadata": {},
   "outputs": [
    {
     "data": {
      "text/plain": [
       "<__main__.Cat at 0x107bf3b90>"
      ]
     },
     "execution_count": 44,
     "metadata": {},
     "output_type": "execute_result"
    }
   ],
   "source": [
    "Cat()"
   ]
  },
  {
   "cell_type": "code",
   "execution_count": 41,
   "id": "b54fc883",
   "metadata": {},
   "outputs": [
    {
     "data": {
      "text/plain": [
       "mappingproxy({'__module__': '__main__',\n",
       "              '_Cat__shared_attr': {'breed': 'siam', 'color': 'white'},\n",
       "              '__init__': <function __main__.Cat.__init__(self)>,\n",
       "              '__dict__': <attribute '__dict__' of 'Cat' objects>,\n",
       "              '__weakref__': <attribute '__weakref__' of 'Cat' objects>,\n",
       "              '__doc__': None})"
      ]
     },
     "execution_count": 41,
     "metadata": {},
     "output_type": "execute_result"
    }
   ],
   "source": [
    "Cat.__dict__"
   ]
  },
  {
   "cell_type": "code",
   "execution_count": null,
   "id": "4815cb62",
   "metadata": {},
   "outputs": [],
   "source": []
  },
  {
   "cell_type": "code",
   "execution_count": null,
   "id": "375da0db",
   "metadata": {},
   "outputs": [],
   "source": []
  }
 ],
 "metadata": {
  "kernelspec": {
   "display_name": "Python 3 (ipykernel)",
   "language": "python",
   "name": "python3"
  },
  "language_info": {
   "codemirror_mode": {
    "name": "ipython",
    "version": 3
   },
   "file_extension": ".py",
   "mimetype": "text/x-python",
   "name": "python",
   "nbconvert_exporter": "python",
   "pygments_lexer": "ipython3",
   "version": "3.11.0"
  }
 },
 "nbformat": 4,
 "nbformat_minor": 5
}
