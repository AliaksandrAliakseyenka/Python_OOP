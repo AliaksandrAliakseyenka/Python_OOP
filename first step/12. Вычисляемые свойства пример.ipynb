{
 "cells": [
  {
   "cell_type": "code",
   "execution_count": 80,
   "id": "47e7b338",
   "metadata": {},
   "outputs": [],
   "source": [
    "class Square:\n",
    "    \n",
    "     \n",
    "    def __init__(self, s):\n",
    "        self.__side = s\n",
    "        self.__area = None\n",
    "        \n",
    "    #side сделаю приватной и добавлю проперти, чтобы расчет не кэшировался \n",
    "    @property\n",
    "    def side(self):\n",
    "        return self.__side\n",
    "    \n",
    "    @side.setter\n",
    "    def side(self, value):\n",
    "        self.__side = value\n",
    "        self.__area = None\n",
    "    \n",
    "    @property\n",
    "    #После того, как я обернул метод @proterty , нужно обратиться как к свойству \n",
    "    def area(self):\n",
    "        #Добавил логику если по какой то причине side будет изменяться \n",
    "        if self.__area is None:\n",
    "            print('do calculate area')\n",
    "            self.__area = self.side ** 2\n",
    "        show = print(f'calculate area: {self.__area}')\n",
    "        return show"
   ]
  },
  {
   "cell_type": "code",
   "execution_count": 81,
   "id": "824cd53e",
   "metadata": {},
   "outputs": [],
   "source": [
    "# one = Square(5)\n",
    "# #будет ошибка, это уже свойство \n",
    "# one.area()"
   ]
  },
  {
   "cell_type": "code",
   "execution_count": 82,
   "id": "64e11c62",
   "metadata": {},
   "outputs": [],
   "source": [
    "# one = Square(5)\n",
    "# #nine!\n",
    "# one.area "
   ]
  },
  {
   "cell_type": "code",
   "execution_count": 83,
   "id": "0109ae6b",
   "metadata": {},
   "outputs": [
    {
     "name": "stdout",
     "output_type": "stream",
     "text": [
      "do calculate area\n",
      "calculate area: 64\n"
     ]
    }
   ],
   "source": [
    "two = Square(8)\n",
    "two.area"
   ]
  },
  {
   "cell_type": "code",
   "execution_count": 84,
   "id": "acc60b88",
   "metadata": {},
   "outputs": [
    {
     "name": "stdout",
     "output_type": "stream",
     "text": [
      "do calculate area\n",
      "calculate area: 121\n"
     ]
    }
   ],
   "source": [
    "tree = Square(11)\n",
    "tree.area"
   ]
  },
  {
   "cell_type": "code",
   "execution_count": 85,
   "id": "cb9e2b9b",
   "metadata": {},
   "outputs": [
    {
     "name": "stdout",
     "output_type": "stream",
     "text": [
      "calculate area: 121\n"
     ]
    }
   ],
   "source": [
    "tree.area"
   ]
  },
  {
   "cell_type": "code",
   "execution_count": 86,
   "id": "e5601499",
   "metadata": {},
   "outputs": [
    {
     "name": "stdout",
     "output_type": "stream",
     "text": [
      "do calculate area\n",
      "calculate area: 169\n"
     ]
    }
   ],
   "source": [
    "# Изменил side \n",
    "# Логика\n",
    "#  @side.setter\n",
    "#     def side(self, value):\n",
    "#         self.__side = value\n",
    "#         self.__area = None\n",
    "tree.side = 13\n",
    "tree.area"
   ]
  },
  {
   "cell_type": "code",
   "execution_count": 87,
   "id": "23961b45",
   "metadata": {},
   "outputs": [
    {
     "name": "stdout",
     "output_type": "stream",
     "text": [
      "calculate area: 169\n"
     ]
    }
   ],
   "source": [
    "tree.area"
   ]
  }
 ],
 "metadata": {
  "kernelspec": {
   "display_name": "Python 3 (ipykernel)",
   "language": "python",
   "name": "python3"
  },
  "language_info": {
   "codemirror_mode": {
    "name": "ipython",
    "version": 3
   },
   "file_extension": ".py",
   "mimetype": "text/x-python",
   "name": "python",
   "nbconvert_exporter": "python",
   "pygments_lexer": "ipython3",
   "version": "3.11.1"
  }
 },
 "nbformat": 4,
 "nbformat_minor": 5
}
