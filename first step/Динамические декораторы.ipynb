{
 "cells": [
  {
   "cell_type": "code",
   "execution_count": 2,
   "id": "3aee523b",
   "metadata": {},
   "outputs": [
    {
     "name": "stdout",
     "output_type": "stream",
     "text": [
      "wrote 2 lines\n"
     ]
    }
   ],
   "source": [
    "# Декоратор вокруг файла\n",
    "\n",
    "class FileWithLogging:\n",
    "    def __init__(self, file):\n",
    "        self.file = file\n",
    "        \n",
    "    def writelines(self, strings):\n",
    "        self.file.writelines(strings)\n",
    "        print(f'wrote {len(strings)} lines')\n",
    "        \n",
    "    def __iter__(self):\n",
    "        return self.file.__iter__()\n",
    "    \n",
    "    def __next__(self):\n",
    "        return self.file.__next__( )\n",
    "        \n",
    "    def __getattr__ (self, item):\n",
    "        return getattr (self.__dict__['file'],item )\n",
    "    \n",
    "    def __setattr__ (self, key, value):\n",
    "        if key == 'file':\n",
    "            self.__dict__[key] = value\n",
    "        else:\n",
    "            setattr(self.__dict__['file'], key)\n",
    "\n",
    "    def __delattr__ (self, item):\n",
    "        delattr(self.__dict__['file'], item)\n",
    "        \n",
    "        \n",
    "if __name__ == '__main__':\n",
    "    file = FileWithLogging(open('hello.txt', 'w'))\n",
    "    file.writelines(['Hello ','World '])\n",
    "    file.write('testing')\n",
    "    file.close()\n",
    "        "
   ]
  },
  {
   "cell_type": "code",
   "execution_count": null,
   "id": "1a0da037",
   "metadata": {},
   "outputs": [],
   "source": []
  }
 ],
 "metadata": {
  "kernelspec": {
   "display_name": "Python 3 (ipykernel)",
   "language": "python",
   "name": "python3"
  },
  "language_info": {
   "codemirror_mode": {
    "name": "ipython",
    "version": 3
   },
   "file_extension": ".py",
   "mimetype": "text/x-python",
   "name": "python",
   "nbconvert_exporter": "python",
   "pygments_lexer": "ipython3",
   "version": "3.11.1"
  }
 },
 "nbformat": 4,
 "nbformat_minor": 5
}
