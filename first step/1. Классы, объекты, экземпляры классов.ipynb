{
 "cells": [
  {
   "cell_type": "code",
   "execution_count": 3,
   "id": "22db4859",
   "metadata": {},
   "outputs": [
    {
     "data": {
      "text/plain": [
       "'\\nЗачем нужны классы?\\n• Классы – это программные компоненты на\\nязыке Python, точно такие же, как функции\\nи модули.\\nКлассы имеют три важных отличия:\\n    • Множество экземпляров\\n    • Адаптация через наследование\\n    • Перегрузка операторов\\n'"
      ]
     },
     "execution_count": 3,
     "metadata": {},
     "output_type": "execute_result"
    }
   ],
   "source": [
    "'''\n",
    "Зачем нужны классы?\n",
    "• Классы – это программные компоненты на\n",
    "языке Python, точно такие же, как функции\n",
    "и модули.\n",
    "Классы имеют три важных отличия:\n",
    "    • Множество экземпляров\n",
    "    • Адаптация через наследование\n",
    "    • Перегрузка операторов\n",
    "'''\n"
   ]
  },
  {
   "cell_type": "code",
   "execution_count": 5,
   "id": "3693c7cb",
   "metadata": {},
   "outputs": [
    {
     "data": {
      "text/plain": [
       "'\\nОсновными понятиями, используемыми в ООП, являются:\\n    • класс;\\n    • объект;\\n    • наследование;\\n    • инкапсуляция;\\n    • полиморфизм.\\n'"
      ]
     },
     "execution_count": 5,
     "metadata": {},
     "output_type": "execute_result"
    }
   ],
   "source": [
    "'''\n",
    "Основными понятиями, используемыми в ООП, являются:\n",
    "    • класс;\n",
    "    • объект;\n",
    "    • наследование;\n",
    "    • инкапсуляция;\n",
    "    • полиморфизм.\n",
    "'''"
   ]
  },
  {
   "cell_type": "code",
   "execution_count": 16,
   "id": "fe26e9aa",
   "metadata": {},
   "outputs": [],
   "source": [
    "#Class это шаблон по которому создаю объекты\n",
    "# The class of this template at create objects\n",
    "class Car:\n",
    "    model = \"BMW\"\n",
    "    engine = 4.5"
   ]
  },
  {
   "cell_type": "code",
   "execution_count": null,
   "id": "b59cea75",
   "metadata": {},
   "outputs": [],
   "source": [
    "isinstance(list, object)"
   ]
  },
  {
   "cell_type": "code",
   "execution_count": 17,
   "id": "2af802b3",
   "metadata": {},
   "outputs": [
    {
     "name": "stdout",
     "output_type": "stream",
     "text": [
      "4364699536\n",
      "4363200784\n"
     ]
    }
   ],
   "source": [
    "# Creating an instance of a class\n",
    "a = Car()\n",
    "b = Car()\n",
    "#get id\n",
    "print(id(a))\n",
    "print(id(b))"
   ]
  },
  {
   "cell_type": "code",
   "execution_count": 18,
   "id": "bb0565c8",
   "metadata": {},
   "outputs": [
    {
     "data": {
      "text/plain": [
       "True"
      ]
     },
     "execution_count": 18,
     "metadata": {},
     "output_type": "execute_result"
    }
   ],
   "source": [
    "isinstance(a, Car)"
   ]
  },
  {
   "cell_type": "code",
   "execution_count": 25,
   "id": "c9e1a716",
   "metadata": {},
   "outputs": [
    {
     "data": {
      "text/plain": [
       "str"
      ]
     },
     "execution_count": 25,
     "metadata": {},
     "output_type": "execute_result"
    }
   ],
   "source": [
    "type(b.model)"
   ]
  }
 ],
 "metadata": {
  "kernelspec": {
   "display_name": "Python 3 (ipykernel)",
   "language": "python",
   "name": "python3"
  },
  "language_info": {
   "codemirror_mode": {
    "name": "ipython",
    "version": 3
   },
   "file_extension": ".py",
   "mimetype": "text/x-python",
   "name": "python",
   "nbconvert_exporter": "python",
   "pygments_lexer": "ipython3",
   "version": "3.11.1"
  }
 },
 "nbformat": 4,
 "nbformat_minor": 5
}
