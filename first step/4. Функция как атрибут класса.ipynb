{
 "cells": [
  {
   "cell_type": "code",
   "execution_count": 28,
   "id": "986affef",
   "metadata": {},
   "outputs": [],
   "source": [
    "class Car:\n",
    "    model = \"BMW\"\n",
    "    engine = 3.0\n",
    "    gearbox = \"Auto\"\n",
    "    \n",
    "    @staticmethod\n",
    "    #@classmethod\n",
    "    def drive ():\n",
    "        print(f\"{Car.model} its best car\")"
   ]
  },
  {
   "cell_type": "code",
   "execution_count": 29,
   "id": "1ac545b9",
   "metadata": {},
   "outputs": [
    {
     "data": {
      "text/plain": [
       "<__main__.Car at 0x1057cd510>"
      ]
     },
     "execution_count": 29,
     "metadata": {},
     "output_type": "execute_result"
    }
   ],
   "source": [
    "Car()"
   ]
  },
  {
   "cell_type": "code",
   "execution_count": 30,
   "id": "91611fff",
   "metadata": {},
   "outputs": [
    {
     "data": {
      "text/plain": [
       "mappingproxy({'__module__': '__main__',\n",
       "              'model': 'BMW',\n",
       "              'engine': 3.0,\n",
       "              'gearbox': 'Auto',\n",
       "              'drive': <staticmethod(<function Car.drive at 0x105c8d080>)>,\n",
       "              '__dict__': <attribute '__dict__' of 'Car' objects>,\n",
       "              '__weakref__': <attribute '__weakref__' of 'Car' objects>,\n",
       "              '__doc__': None})"
      ]
     },
     "execution_count": 30,
     "metadata": {},
     "output_type": "execute_result"
    }
   ],
   "source": [
    "Car.__dict__"
   ]
  },
  {
   "cell_type": "code",
   "execution_count": 31,
   "id": "70b88382",
   "metadata": {},
   "outputs": [
    {
     "name": "stdout",
     "output_type": "stream",
     "text": [
      "BMW its best car\n"
     ]
    }
   ],
   "source": [
    "# Через Class сделаю вызов, () - оператор вызова\n",
    "Car.drive()"
   ]
  },
  {
   "cell_type": "code",
   "execution_count": 32,
   "id": "060cf427",
   "metadata": {},
   "outputs": [
    {
     "data": {
      "text/plain": [
       "<function __main__.Car.drive()>"
      ]
     },
     "execution_count": 32,
     "metadata": {},
     "output_type": "execute_result"
    }
   ],
   "source": [
    "# Можно вызвать def через getattr\n",
    "getattr(Car,'drive')"
   ]
  },
  {
   "cell_type": "code",
   "execution_count": 33,
   "id": "fa829d09",
   "metadata": {},
   "outputs": [
    {
     "name": "stdout",
     "output_type": "stream",
     "text": [
      "BMW its best car\n"
     ]
    }
   ],
   "source": [
    "# Можно вызвать def() через getattr \n",
    "getattr(Car,'drive')()"
   ]
  },
  {
   "cell_type": "code",
   "execution_count": 42,
   "id": "8cf03dd8",
   "metadata": {},
   "outputs": [
    {
     "data": {
      "text/plain": [
       "<function __main__.Car.drive()>"
      ]
     },
     "execution_count": 42,
     "metadata": {},
     "output_type": "execute_result"
    }
   ],
   "source": [
    "# Через экземпляр класса \n",
    "exm_car = Car() \n",
    "# exm_car.drive()\n",
    "exm_car.drive"
   ]
  },
  {
   "cell_type": "code",
   "execution_count": 35,
   "id": "cdf3888e",
   "metadata": {},
   "outputs": [
    {
     "name": "stdout",
     "output_type": "stream",
     "text": [
      "BMW its best car\n"
     ]
    }
   ],
   "source": [
    "# Ошибка\n",
    "# bound method\n",
    "# Что бы это работало нужен декоратор @staticmethod\n",
    "exm_car.drive()"
   ]
  }
 ],
 "metadata": {
  "kernelspec": {
   "display_name": "Python 3 (ipykernel)",
   "language": "python",
   "name": "python3"
  },
  "language_info": {
   "codemirror_mode": {
    "name": "ipython",
    "version": 3
   },
   "file_extension": ".py",
   "mimetype": "text/x-python",
   "name": "python",
   "nbconvert_exporter": "python",
   "pygments_lexer": "ipython3",
   "version": "3.11.1"
  }
 },
 "nbformat": 4,
 "nbformat_minor": 5
}
