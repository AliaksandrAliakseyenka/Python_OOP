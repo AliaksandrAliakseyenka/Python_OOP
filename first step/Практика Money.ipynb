{
 "cells": [
  {
   "cell_type": "code",
   "execution_count": null,
   "id": "211acf13",
   "metadata": {},
   "outputs": [],
   "source": [
    "\"\"\"\n",
    "Создайте класс Money, у которого есть:\n",
    "1. конструктор __init_, принимающий 2 аргумента: dollars, cents. По входным аргументам вам необходимо\n",
    "создать атрибут экземпляра total_cents.\n",
    "2. свойство геттер dollars, которое возвращает количество имеющихся долларов;\n",
    "3. свойство сеттер dollars, которое принимает целое неотрицательное число - количество долларов\n",
    "и устанавливает при помощи него новое значение в атрибут экземпляра total_cents,\n",
    "при этом значение центов должно сохранятся. В случае, если в сеттер передано число,\n",
    "не удовлетворяющее условию, нужно печатать на экран сообщение \"Error dollars\":\n",
    "4. свойство геттер cents, которое возвращает количество имеющихся центов;\n",
    "5. свойство сеттер cents, которое принимает целое неотрицательное число меньшее 100 - количество центов\n",
    "и устанавливает при помощи него новое значение в атрибут экземпляра total_cents, при этом значение\n",
    "долларов должно сохранятся. В случае, если в сеттер передано число, не удовлетворяющее условию,\n",
    "нужно печатать на экран сообщение \"Error cents\";\n",
    "6. метод __str_ (информация по данному методу), который возвращает строку\n",
    "вида \"Ваше состояние составляет (dollars)} долларов (cents} центов\".\n",
    "Для нахождения долларов и центов в методе _str_ пользуйтесь свойствами\n",
    "В экземпляр класса кроме атрибута total_cents сохранять ничего не нужно!\n",
    "\"\"\""
   ]
  },
  {
   "cell_type": "code",
   "execution_count": 94,
   "id": "dc47a3aa",
   "metadata": {},
   "outputs": [],
   "source": [
    "class Money:\n",
    "    \n",
    "    \n",
    "    def __init__ (self, dollars, cents):\n",
    "        self.total_cents = float(dollars * 100) + cents\n",
    "        print(f\"dollars: {dollars}, cents: {cents}\")\n",
    "\n",
    "    @property\n",
    "    def dollars(self):\n",
    "        return self.total_cents // 100\n",
    "    \n",
    "    @property\n",
    "    def cents(self):\n",
    "        return self.total_cents % 100\n",
    "    \n",
    "    @dollars.setter\n",
    "    def dollars(self, value):\n",
    "        if isinstance(value, int) and value >= 0:\n",
    "            self.total_cents = value * 100 + self.cents\n",
    "        else:\n",
    "            print(\"Error dollars:Принимает целое неотрицательное число\")\n",
    "            \n",
    "    @cents.setter\n",
    "    def cents(self, value):\n",
    "        if isinstance(value, int) and 100 > value >= 0:\n",
    "            self.total_cents = self.dollars * 100 + value\n",
    "        else:\n",
    "            print(\"Error cents:Принимает целое неотрицательное число\")\n",
    "           \n",
    "    def __str__(self):\n",
    "        return f\"Ваше состояние составляет {self.dollars} долларов {self.cents} центов\"\n",
    "    \n",
    "    "
   ]
  },
  {
   "cell_type": "code",
   "execution_count": 95,
   "id": "4bd3f90f",
   "metadata": {},
   "outputs": [
    {
     "name": "stdout",
     "output_type": "stream",
     "text": [
      "dollars: 55, cents: 57\n"
     ]
    }
   ],
   "source": [
    "alex = Money(55, 57)"
   ]
  },
  {
   "cell_type": "code",
   "execution_count": 96,
   "id": "a0743399",
   "metadata": {},
   "outputs": [
    {
     "data": {
      "text/plain": [
       "55.0"
      ]
     },
     "execution_count": 96,
     "metadata": {},
     "output_type": "execute_result"
    }
   ],
   "source": [
    "alex.dollars"
   ]
  },
  {
   "cell_type": "code",
   "execution_count": 91,
   "id": "f7e53a44",
   "metadata": {},
   "outputs": [
    {
     "data": {
      "text/plain": [
       "55.0"
      ]
     },
     "execution_count": 91,
     "metadata": {},
     "output_type": "execute_result"
    }
   ],
   "source": [
    "alex.cents"
   ]
  },
  {
   "cell_type": "code",
   "execution_count": 97,
   "id": "889be450",
   "metadata": {},
   "outputs": [
    {
     "name": "stdout",
     "output_type": "stream",
     "text": [
      "Error cents:Принимает целое неотрицательное число\n",
      "Error dollars:Принимает целое неотрицательное число\n"
     ]
    }
   ],
   "source": [
    "alex.cents = -2\n",
    "alex.dollars = 'hi'"
   ]
  }
 ],
 "metadata": {
  "kernelspec": {
   "display_name": "Python 3 (ipykernel)",
   "language": "python",
   "name": "python3"
  },
  "language_info": {
   "codemirror_mode": {
    "name": "ipython",
    "version": 3
   },
   "file_extension": ".py",
   "mimetype": "text/x-python",
   "name": "python",
   "nbconvert_exporter": "python",
   "pygments_lexer": "ipython3",
   "version": "3.11.1"
  }
 },
 "nbformat": 4,
 "nbformat_minor": 5
}
