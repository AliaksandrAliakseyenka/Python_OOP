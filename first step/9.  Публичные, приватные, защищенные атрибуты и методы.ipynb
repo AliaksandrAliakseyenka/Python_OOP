{
 "cells": [
  {
   "cell_type": "code",
   "execution_count": 76,
   "id": "28160630",
   "metadata": {},
   "outputs": [],
   "source": [
    "# Публичные, приватные, защищенные атрибуты и методы\n",
    "\n",
    "# защищенный атрибут  _ или __ \n",
    "#         self._name = name\n",
    "#         self._balance = balance\n",
    "#         self._passport = passport\n",
    "\n",
    "class BankAccount:\n",
    "    \n",
    "    def __init__ (self, name, balance, passport):\n",
    "        # _name python протектед на согласие между разработчиком, что метод не надо вызывать \n",
    "        # если вижу данный атрибут в коде, то лучше не использовать вне класса, он предназначен только для нужд внутри класса\n",
    "        # а ограничеть доступ к этим атрибутом можно при помощи двух __ \n",
    "        self.__name = name\n",
    "        self.__balance = balance\n",
    "        self.__passport = passport\n",
    "        \n",
    "    def print_public_data(self):\n",
    "        print(self.name,self.balance,self.passport)\n",
    "        \n",
    "    def print_protected_data(self):\n",
    "        print(self._name,self._balance,self._passport)\n",
    "        \n",
    "    def print_private_data(self):\n",
    "        print(self.__name,self.__balance,self.__passport)\n",
    "        \n",
    "    def __print_private_data(self):\n",
    "        print(self.__name,self.__balance,self.__passport)\n",
    "        \n",
    "        \n",
    "account_one = BankAccount('Bob', 5600, \"asd23232kdsadasa  \")"
   ]
  },
  {
   "cell_type": "code",
   "execution_count": 77,
   "id": "8d6cf3eb",
   "metadata": {},
   "outputs": [],
   "source": [
    "# account_one.print_public_data()"
   ]
  },
  {
   "cell_type": "code",
   "execution_count": 78,
   "id": "a744997e",
   "metadata": {},
   "outputs": [
    {
     "name": "stdout",
     "output_type": "stream",
     "text": [
      "Bob 5600 asd23232kdsadasa  \n"
     ]
    }
   ],
   "source": [
    "account_one.print_private_data()"
   ]
  },
  {
   "cell_type": "code",
   "execution_count": 79,
   "id": "3301611c",
   "metadata": {},
   "outputs": [
    {
     "name": "stdout",
     "output_type": "stream",
     "text": [
      "Bob 5600 asd23232kdsadasa  \n"
     ]
    }
   ],
   "source": [
    "account_one.print_private_data()\n",
    "# Пример print(account_one.__name)\n",
    "# Будет ошибка\n",
    "# print(account_one.__name)\n",
    "# print(account_one.__balance)\n",
    "# print(account_one.__passport)"
   ]
  },
  {
   "cell_type": "code",
   "execution_count": 80,
   "id": "808967e0",
   "metadata": {},
   "outputs": [],
   "source": [
    "# account_one.print_protected_data()"
   ]
  },
  {
   "cell_type": "code",
   "execution_count": 81,
   "id": "92b285b2",
   "metadata": {},
   "outputs": [],
   "source": [
    "# Инкапсуляция — ограничение доступа к составляющим объект компонентам (методам и переменным).\n",
    "# Инкапсуляция делает некоторые из компонент доступными только внутри класса."
   ]
  },
  {
   "cell_type": "code",
   "execution_count": 82,
   "id": "22980b7c",
   "metadata": {},
   "outputs": [],
   "source": [
    "# Инкапсуляция в Python работает лишь на уровне соглашения между программистами о том,\n",
    "# какие атрибуты являются общедоступными, а какие — внутренними."
   ]
  },
  {
   "cell_type": "code",
   "execution_count": 83,
   "id": "7a1cf274",
   "metadata": {},
   "outputs": [
    {
     "name": "stdout",
     "output_type": "stream",
     "text": [
      "['_BankAccount__balance', '_BankAccount__name', '_BankAccount__passport', '_BankAccount__print_private_data', '__class__', '__delattr__', '__dict__', '__dir__', '__doc__', '__eq__', '__format__', '__ge__', '__getattribute__', '__getstate__', '__gt__', '__hash__', '__init__', '__init_subclass__', '__le__', '__lt__', '__module__', '__ne__', '__new__', '__reduce__', '__reduce_ex__', '__repr__', '__setattr__', '__sizeof__', '__str__', '__subclasshook__', '__weakref__', 'print_private_data', 'print_protected_data', 'print_public_data']\n"
     ]
    }
   ],
   "source": [
    "print(dir(account_one))\n",
    "# Можно получать доступ все же\n",
    "# но это будет не напрямую "
   ]
  },
  {
   "cell_type": "code",
   "execution_count": 86,
   "id": "70964388",
   "metadata": {},
   "outputs": [
    {
     "name": "stdout",
     "output_type": "stream",
     "text": [
      "Bob 5600 asd23232kdsadasa  \n"
     ]
    }
   ],
   "source": [
    "# Взять из dir \n",
    "account_one._BankAccount__print_private_data()"
   ]
  },
  {
   "cell_type": "code",
   "execution_count": 88,
   "id": "4e2733f2",
   "metadata": {},
   "outputs": [
    {
     "name": "stdout",
     "output_type": "stream",
     "text": [
      "5600\n"
     ]
    }
   ],
   "source": [
    "# Баланс\n",
    "print(account_one._BankAccount__balance)"
   ]
  },
  {
   "cell_type": "code",
   "execution_count": 89,
   "id": "27b3cf11",
   "metadata": {},
   "outputs": [],
   "source": [
    "# Это показывает то, что нельзя полностью закрыть доступ к атрибутам класса"
   ]
  },
  {
   "cell_type": "code",
   "execution_count": null,
   "id": "14a788f7",
   "metadata": {},
   "outputs": [],
   "source": [
    "# Для защиты надо использовать модуль accessify в нем два декоратора "
   ]
  }
 ],
 "metadata": {
  "kernelspec": {
   "display_name": "Python 3 (ipykernel)",
   "language": "python",
   "name": "python3"
  },
  "language_info": {
   "codemirror_mode": {
    "name": "ipython",
    "version": 3
   },
   "file_extension": ".py",
   "mimetype": "text/x-python",
   "name": "python",
   "nbconvert_exporter": "python",
   "pygments_lexer": "ipython3",
   "version": "3.11.1"
  }
 },
 "nbformat": 4,
 "nbformat_minor": 5
}
