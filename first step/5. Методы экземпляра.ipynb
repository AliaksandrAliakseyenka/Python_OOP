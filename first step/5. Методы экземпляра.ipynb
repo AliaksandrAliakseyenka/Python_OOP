{
 "cells": [
  {
   "cell_type": "code",
   "execution_count": 1,
   "id": "0ce85a9f",
   "metadata": {},
   "outputs": [],
   "source": [
    "class Cat:\n",
    "    breed = \"pers\"\n",
    "    def hello(*args):\n",
    "        print('Hello Cat',args)\n",
    "    \n",
    "    def show_breed(instance):\n",
    "        print(f\"my breed is {instance.breed}\")\n",
    "        \n",
    "    def show_name(instance):\n",
    "        #проверю атрибут\n",
    "        if hasattr(instance, 'name'):\n",
    "            print(f\"my name is {instance.name}\")\n",
    "        else:\n",
    "            print('nothing')\n",
    "            \n",
    "    def set_value(kat, value, age = 2):\n",
    "        kat.name = value\n",
    "        kat.age = age"
   ]
  },
  {
   "cell_type": "code",
   "execution_count": 2,
   "id": "d4e6cfbd",
   "metadata": {},
   "outputs": [
    {
     "name": "stdout",
     "output_type": "stream",
     "text": [
      "Hello Cat ()\n"
     ]
    }
   ],
   "source": [
    "Cat.hello()"
   ]
  },
  {
   "cell_type": "code",
   "execution_count": 3,
   "id": "fe40175a",
   "metadata": {},
   "outputs": [],
   "source": [
    "inst_cat = Cat()"
   ]
  },
  {
   "cell_type": "code",
   "execution_count": 4,
   "id": "1f1d9975",
   "metadata": {},
   "outputs": [
    {
     "name": "stdout",
     "output_type": "stream",
     "text": [
      "Hello Cat (<__main__.Cat object at 0x1075e4f90>,)\n"
     ]
    }
   ],
   "source": [
    "inst_cat.hello()"
   ]
  },
  {
   "cell_type": "code",
   "execution_count": 5,
   "id": "3a15f523",
   "metadata": {},
   "outputs": [
    {
     "data": {
      "text/plain": [
       "(<function __main__.Cat.hello(*args)>,\n",
       " <bound method Cat.hello of <__main__.Cat object at 0x1075e4f90>>)"
      ]
     },
     "execution_count": 5,
     "metadata": {},
     "output_type": "execute_result"
    }
   ],
   "source": [
    "Cat.hello , inst_cat.hello"
   ]
  },
  {
   "cell_type": "code",
   "execution_count": 6,
   "id": "160ee580",
   "metadata": {},
   "outputs": [
    {
     "data": {
      "text/plain": [
       "<__main__.Cat at 0x1075e4f90>"
      ]
     },
     "execution_count": 6,
     "metadata": {},
     "output_type": "execute_result"
    }
   ],
   "source": [
    "# Cравнил место в памяти\n",
    "inst_cat"
   ]
  },
  {
   "cell_type": "code",
   "execution_count": 7,
   "id": "d5f1e1bf",
   "metadata": {},
   "outputs": [],
   "source": [
    "# Метод связывается с объектом у которого он был вызван "
   ]
  },
  {
   "cell_type": "code",
   "execution_count": 8,
   "id": "ed069768",
   "metadata": {},
   "outputs": [],
   "source": [
    "walt = Cat()"
   ]
  },
  {
   "cell_type": "code",
   "execution_count": 9,
   "id": "50eba86a",
   "metadata": {},
   "outputs": [
    {
     "name": "stdout",
     "output_type": "stream",
     "text": [
      "my breed is pers\n"
     ]
    }
   ],
   "source": [
    "walt.show_breed()"
   ]
  },
  {
   "cell_type": "code",
   "execution_count": 10,
   "id": "ab0debc2",
   "metadata": {},
   "outputs": [],
   "source": [
    "walt.breed = \"Mr.Kitty\""
   ]
  },
  {
   "cell_type": "code",
   "execution_count": 11,
   "id": "0757ddb2",
   "metadata": {},
   "outputs": [
    {
     "name": "stdout",
     "output_type": "stream",
     "text": [
      "my breed is Mr.Kitty\n"
     ]
    }
   ],
   "source": [
    "walt.show_breed()"
   ]
  },
  {
   "cell_type": "code",
   "execution_count": 12,
   "id": "f0afcf49",
   "metadata": {},
   "outputs": [
    {
     "data": {
      "text/plain": [
       "{'breed': 'Mr.Kitty'}"
      ]
     },
     "execution_count": 12,
     "metadata": {},
     "output_type": "execute_result"
    }
   ],
   "source": [
    "walt.__dict__"
   ]
  },
  {
   "cell_type": "code",
   "execution_count": 228,
   "id": "4fdef1e7",
   "metadata": {},
   "outputs": [],
   "source": [
    "jerry = Cat()"
   ]
  },
  {
   "cell_type": "code",
   "execution_count": 229,
   "id": "7b691e44",
   "metadata": {},
   "outputs": [],
   "source": [
    "jerry.set_value('Jerry')"
   ]
  },
  {
   "cell_type": "code",
   "execution_count": 230,
   "id": "2b2dc483",
   "metadata": {},
   "outputs": [
    {
     "data": {
      "text/plain": [
       "{'name': 'Jerry', 'age': 2}"
      ]
     },
     "execution_count": 230,
     "metadata": {},
     "output_type": "execute_result"
    }
   ],
   "source": [
    "jerry.__dict__"
   ]
  },
  {
   "cell_type": "code",
   "execution_count": 231,
   "id": "bf49ec7e",
   "metadata": {},
   "outputs": [],
   "source": [
    "# Self тот object от котрого был вызван метод\n",
    "class Cat:\n",
    "    breed = \"pers\"\n",
    "    def hello(*args):\n",
    "        print('Hello Cat',args)\n",
    "    \n",
    "    def show_breed(self):\n",
    "        print(f\"my breed is {self.breed}\")\n",
    "        \n",
    "    def show_name(self):\n",
    "        #проверю атрибут\n",
    "        if hasattr(self, 'name'):\n",
    "            print(f\"my name is {self.name}\")\n",
    "        else:\n",
    "            print('nothing')\n",
    "            \n",
    "    def set_value(self, value, age = 2):\n",
    "        self.name = value\n",
    "        self.age = age\n",
    "        \n",
    "    def new_method(self):\n",
    "        pass"
   ]
  },
  {
   "cell_type": "code",
   "execution_count": 232,
   "id": "5827ed4f",
   "metadata": {},
   "outputs": [],
   "source": [
    "barsik = Cat()"
   ]
  },
  {
   "cell_type": "code",
   "execution_count": 233,
   "id": "09dbdbc9",
   "metadata": {},
   "outputs": [
    {
     "name": "stdout",
     "output_type": "stream",
     "text": [
      "Hello Cat (<__main__.Cat object at 0x1204b0b50>,)\n"
     ]
    }
   ],
   "source": [
    "barsik.hello()"
   ]
  },
  {
   "cell_type": "code",
   "execution_count": 234,
   "id": "474c9d23",
   "metadata": {},
   "outputs": [
    {
     "name": "stdout",
     "output_type": "stream",
     "text": [
      "my breed is pers\n"
     ]
    }
   ],
   "source": [
    "barsik.show_breed()"
   ]
  },
  {
   "cell_type": "code",
   "execution_count": 238,
   "id": "c381f89c",
   "metadata": {},
   "outputs": [],
   "source": [
    "barsik.name = \"Boris\""
   ]
  },
  {
   "cell_type": "code",
   "execution_count": 239,
   "id": "ab969a31",
   "metadata": {},
   "outputs": [
    {
     "name": "stdout",
     "output_type": "stream",
     "text": [
      "my name is Boris\n"
     ]
    }
   ],
   "source": [
    "barsik.show_name()"
   ]
  },
  {
   "cell_type": "code",
   "execution_count": 240,
   "id": "7f4c3aa8",
   "metadata": {},
   "outputs": [
    {
     "data": {
      "text/plain": [
       "{'name': 'Boris'}"
      ]
     },
     "execution_count": 240,
     "metadata": {},
     "output_type": "execute_result"
    }
   ],
   "source": [
    "barsik.__dict__"
   ]
  },
  {
   "cell_type": "code",
   "execution_count": 242,
   "id": "d4de15f9",
   "metadata": {},
   "outputs": [],
   "source": [
    "barsik.set_value('Boris',5)"
   ]
  },
  {
   "cell_type": "code",
   "execution_count": 243,
   "id": "0de97a8c",
   "metadata": {},
   "outputs": [
    {
     "data": {
      "text/plain": [
       "{'name': 'Boris', 'age': 5}"
      ]
     },
     "execution_count": 243,
     "metadata": {},
     "output_type": "execute_result"
    }
   ],
   "source": [
    "barsik.__dict__"
   ]
  }
 ],
 "metadata": {
  "kernelspec": {
   "display_name": "Python 3 (ipykernel)",
   "language": "python",
   "name": "python3"
  },
  "language_info": {
   "codemirror_mode": {
    "name": "ipython",
    "version": 3
   },
   "file_extension": ".py",
   "mimetype": "text/x-python",
   "name": "python",
   "nbconvert_exporter": "python",
   "pygments_lexer": "ipython3",
   "version": "3.11.1"
  }
 },
 "nbformat": 4,
 "nbformat_minor": 5
}
