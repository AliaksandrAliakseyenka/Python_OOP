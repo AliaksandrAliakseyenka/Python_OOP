{
 "cells": [
  {
   "cell_type": "code",
   "execution_count": 1,
   "id": "67cd6712",
   "metadata": {},
   "outputs": [],
   "source": [
    "# Все действия ниже над атрибутами класса\n",
    "class Person:\n",
    "    #Атрибуты класса\n",
    "    name = \"Ivan\"\n",
    "    age = 30 \n",
    "# Атрибуты-переменные  называют  полями  или  свойствами"
   ]
  },
  {
   "cell_type": "code",
   "execution_count": 2,
   "id": "e38ec12f",
   "metadata": {},
   "outputs": [
    {
     "data": {
      "text/plain": [
       "__main__.Person"
      ]
     },
     "execution_count": 2,
     "metadata": {},
     "output_type": "execute_result"
    }
   ],
   "source": [
    "Person"
   ]
  },
  {
   "cell_type": "code",
   "execution_count": 3,
   "id": "233b73d0",
   "metadata": {},
   "outputs": [
    {
     "data": {
      "text/plain": [
       "30"
      ]
     },
     "execution_count": 3,
     "metadata": {},
     "output_type": "execute_result"
    }
   ],
   "source": [
    "# Обратиться к атрибуту класса\n",
    "Person.name\n",
    "Person.age "
   ]
  },
  {
   "cell_type": "code",
   "execution_count": 4,
   "id": "dcc5717d",
   "metadata": {},
   "outputs": [
    {
     "data": {
      "text/plain": [
       "mappingproxy({'__module__': '__main__',\n",
       "              'name': 'Ivan',\n",
       "              'age': 30,\n",
       "              '__dict__': <attribute '__dict__' of 'Person' objects>,\n",
       "              '__weakref__': <attribute '__weakref__' of 'Person' objects>,\n",
       "              '__doc__': None})"
      ]
     },
     "execution_count": 4,
     "metadata": {},
     "output_type": "execute_result"
    }
   ],
   "source": [
    "# Посмотреть все атрибуты класса:\n",
    "Person.__dict__\n",
    "# mappingproxy"
   ]
  },
  {
   "cell_type": "code",
   "execution_count": 5,
   "id": "71ac15d2",
   "metadata": {},
   "outputs": [
    {
     "data": {
      "text/plain": [
       "'Ivan'"
      ]
     },
     "execution_count": 5,
     "metadata": {},
     "output_type": "execute_result"
    }
   ],
   "source": [
    "# Через getattr(object,name)\n",
    "getattr(Person,\"name\")"
   ]
  },
  {
   "cell_type": "code",
   "execution_count": 6,
   "id": "3e60daf5",
   "metadata": {},
   "outputs": [
    {
     "data": {
      "text/plain": [
       "300"
      ]
     },
     "execution_count": 6,
     "metadata": {},
     "output_type": "execute_result"
    }
   ],
   "source": [
    "# getattr(object,name, если нет name то верните 300)\n",
    "getattr(Person,\"x\", 300)"
   ]
  },
  {
   "cell_type": "code",
   "execution_count": 7,
   "id": "97afbb1a",
   "metadata": {},
   "outputs": [
    {
     "data": {
      "text/plain": [
       "'Mike'"
      ]
     },
     "execution_count": 7,
     "metadata": {},
     "output_type": "execute_result"
    }
   ],
   "source": [
    "# Изменить значение атрибута\n",
    "Person.name = \"Mike\"\n",
    "Person.name"
   ]
  },
  {
   "cell_type": "code",
   "execution_count": 8,
   "id": "b384a2fb",
   "metadata": {},
   "outputs": [
    {
     "data": {
      "text/plain": [
       "mappingproxy({'__module__': '__main__',\n",
       "              'name': 'Mike',\n",
       "              'age': 30,\n",
       "              '__dict__': <attribute '__dict__' of 'Person' objects>,\n",
       "              '__weakref__': <attribute '__weakref__' of 'Person' objects>,\n",
       "              '__doc__': None,\n",
       "              'create_new_attr': 'on_class'})"
      ]
     },
     "execution_count": 8,
     "metadata": {},
     "output_type": "execute_result"
    }
   ],
   "source": [
    "# Питон может создать динамически, то чего нет\n",
    "Person.create_new_attr = \"on_class\"\n",
    "Person.__dict__"
   ]
  },
  {
   "cell_type": "code",
   "execution_count": 9,
   "id": "b2eefd69",
   "metadata": {},
   "outputs": [],
   "source": [
    "#Могу изменить значение добавноленого мной атрибута\n",
    "Person.create_new_attr = [1,10,20,40]"
   ]
  },
  {
   "cell_type": "code",
   "execution_count": 10,
   "id": "4d6443bb",
   "metadata": {},
   "outputs": [],
   "source": [
    "#Устанавливать значение атрибутов можно устанавливать при помощи функции setattr(obj, name, value)\n",
    "#obj = Кому\n",
    "#name = Имя атрибута\n",
    "#value = value  \n",
    "#Можно изменить или создать новый \n",
    "price = [1,2,3,4,5,6,7]\n",
    "setattr(Person, 'x', price )"
   ]
  },
  {
   "cell_type": "code",
   "execution_count": 11,
   "id": "d2dc3af3",
   "metadata": {},
   "outputs": [
    {
     "data": {
      "text/plain": [
       "mappingproxy({'__module__': '__main__',\n",
       "              'name': 'Mike',\n",
       "              'age': 30,\n",
       "              '__dict__': <attribute '__dict__' of 'Person' objects>,\n",
       "              '__weakref__': <attribute '__weakref__' of 'Person' objects>,\n",
       "              '__doc__': None,\n",
       "              'create_new_attr': [1, 10, 20, 40],\n",
       "              'x': [1, 2, 3, 4, 5, 6, 7]})"
      ]
     },
     "execution_count": 11,
     "metadata": {},
     "output_type": "execute_result"
    }
   ],
   "source": [
    "Person.__dict__"
   ]
  },
  {
   "cell_type": "code",
   "execution_count": 12,
   "id": "6acd00df",
   "metadata": {},
   "outputs": [],
   "source": [
    "#Удаление \n",
    "del Person.create_new_attr"
   ]
  },
  {
   "cell_type": "code",
   "execution_count": 13,
   "id": "b83aa0c4",
   "metadata": {},
   "outputs": [
    {
     "data": {
      "text/plain": [
       "mappingproxy({'__module__': '__main__',\n",
       "              'name': 'Mike',\n",
       "              'age': 30,\n",
       "              '__dict__': <attribute '__dict__' of 'Person' objects>,\n",
       "              '__weakref__': <attribute '__weakref__' of 'Person' objects>,\n",
       "              '__doc__': None,\n",
       "              'x': [1, 2, 3, 4, 5, 6, 7]})"
      ]
     },
     "execution_count": 13,
     "metadata": {},
     "output_type": "execute_result"
    }
   ],
   "source": [
    "Person.__dict__"
   ]
  },
  {
   "cell_type": "code",
   "execution_count": 14,
   "id": "150e8fdf",
   "metadata": {},
   "outputs": [],
   "source": [
    "#Функция для удаления атрибута delattr(obj, name, /)\n",
    "delattr(Person,'x') #указать как str"
   ]
  },
  {
   "cell_type": "code",
   "execution_count": 15,
   "id": "53592079",
   "metadata": {},
   "outputs": [
    {
     "data": {
      "text/plain": [
       "mappingproxy({'__module__': '__main__',\n",
       "              'name': 'Mike',\n",
       "              'age': 30,\n",
       "              '__dict__': <attribute '__dict__' of 'Person' objects>,\n",
       "              '__weakref__': <attribute '__weakref__' of 'Person' objects>,\n",
       "              '__doc__': None})"
      ]
     },
     "execution_count": 15,
     "metadata": {},
     "output_type": "execute_result"
    }
   ],
   "source": [
    "Person.__dict__"
   ]
  },
  {
   "cell_type": "code",
   "execution_count": 16,
   "id": "c4ea6544",
   "metadata": {},
   "outputs": [],
   "source": [
    "first = Person()\n",
    "second = Person()\n",
    "#Атрибуты экземпляров\n",
    "Person.z = 100500\n",
    "#Изменение влиет на все экземпляры\n",
    "Person.name = \"Alex\""
   ]
  },
  {
   "cell_type": "code",
   "execution_count": 17,
   "id": "61e6a8a2",
   "metadata": {},
   "outputs": [
    {
     "data": {
      "text/plain": [
       "'Alex'"
      ]
     },
     "execution_count": 17,
     "metadata": {},
     "output_type": "execute_result"
    }
   ],
   "source": [
    "first.name"
   ]
  },
  {
   "cell_type": "code",
   "execution_count": 18,
   "id": "0cbd125c",
   "metadata": {},
   "outputs": [],
   "source": [
    "#Но если создать атрибут только у переменной где хранится ссылка на клаасс,\n",
    "# атрибут будет только у этой переменной\n",
    "first.best = \"price\""
   ]
  },
  {
   "cell_type": "code",
   "execution_count": 19,
   "id": "afc8b379",
   "metadata": {},
   "outputs": [
    {
     "data": {
      "text/plain": [
       "'price'"
      ]
     },
     "execution_count": 19,
     "metadata": {},
     "output_type": "execute_result"
    }
   ],
   "source": [
    "getattr(first,\"best\")"
   ]
  }
 ],
 "metadata": {
  "kernelspec": {
   "display_name": "Python 3 (ipykernel)",
   "language": "python",
   "name": "python3"
  },
  "language_info": {
   "codemirror_mode": {
    "name": "ipython",
    "version": 3
   },
   "file_extension": ".py",
   "mimetype": "text/x-python",
   "name": "python",
   "nbconvert_exporter": "python",
   "pygments_lexer": "ipython3",
   "version": "3.11.1"
  }
 },
 "nbformat": 4,
 "nbformat_minor": 5
}
