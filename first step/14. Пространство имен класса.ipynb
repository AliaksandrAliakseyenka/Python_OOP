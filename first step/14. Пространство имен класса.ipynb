{
 "cells": [
  {
   "cell_type": "code",
   "execution_count": 122,
   "id": "33540119",
   "metadata": {},
   "outputs": [],
   "source": [
    "# Получаем доступ к методам \n",
    "\n",
    "class FactoryDepartment:\n",
    "    \n",
    "    machine = 20\n",
    "    workers = 30\n",
    "    \n",
    "    def info_count_workers (self):\n",
    "        print(self.machine, self.workers)\n",
    "        \n",
    "    def info_count_workers2 (self):\n",
    "        print(FactoryDepartment.machine, FactoryDepartment.workers)\n",
    "    \n",
    "    @property\n",
    "    def info_count_workers_property (self):\n",
    "        print(self.machine, self.workers)\n",
    "    \n",
    "    @staticmethod\n",
    "    def info_count_workers_staticmethod ():\n",
    "        print(FactoryDepartment.machine, FactoryDepartment.workers)\n",
    "        \n",
    "    @classmethod    \n",
    "    def info_count_workers_classmethod (cls):\n",
    "        print(cls.machine, cls.workers)\n",
    "    \n",
    "    def buy_a_machine (self):\n",
    "        FactoryDepartment.machine += 1\n",
    "        print(f\"buy_a_machine, count machine: {FactoryDepartment.machine}\")\n",
    "    \n",
    "    def hire_a_worker (self):\n",
    "        FactoryDepartment.workers += 1 \n",
    "        print(f\"hire_a_worker, count worker: {FactoryDepartment.workers}\")"
   ]
  },
  {
   "cell_type": "code",
   "execution_count": 123,
   "id": "84ac962e",
   "metadata": {},
   "outputs": [],
   "source": [
    "mc_factory = FactoryDepartment()"
   ]
  },
  {
   "cell_type": "code",
   "execution_count": 124,
   "id": "15558dab",
   "metadata": {},
   "outputs": [
    {
     "name": "stdout",
     "output_type": "stream",
     "text": [
      "20 30\n"
     ]
    }
   ],
   "source": [
    "# Методам не доступны имена в этом пространстве имен \n",
    "mc_factory.info_count_workers()\n",
    "# Будет ошибка, не находит в глобальной области видимости\n",
    "# print(machine, workers)\n",
    "# NameError: name 'machine' is not define\n",
    "\n",
    "# Добавим self."
   ]
  },
  {
   "cell_type": "code",
   "execution_count": 125,
   "id": "776d389b",
   "metadata": {},
   "outputs": [
    {
     "name": "stdout",
     "output_type": "stream",
     "text": [
      "20 30\n"
     ]
    }
   ],
   "source": [
    "# Через FactoryDepartment.machine, FactoryDepartment.workers\n",
    "mc_factory.info_count_workers2()"
   ]
  },
  {
   "cell_type": "code",
   "execution_count": 126,
   "id": "ecca0d23",
   "metadata": {},
   "outputs": [
    {
     "name": "stdout",
     "output_type": "stream",
     "text": [
      "20 30\n"
     ]
    }
   ],
   "source": [
    "# Через свойства\n",
    "mc_factory.info_count_workers_property"
   ]
  },
  {
   "cell_type": "code",
   "execution_count": 127,
   "id": "2d317101",
   "metadata": {},
   "outputs": [
    {
     "name": "stdout",
     "output_type": "stream",
     "text": [
      "20 30\n"
     ]
    }
   ],
   "source": [
    "# Через @staticmethod\n",
    "mc_factory.info_count_workers_staticmethod()"
   ]
  },
  {
   "cell_type": "code",
   "execution_count": 128,
   "id": "bb1c4948",
   "metadata": {},
   "outputs": [
    {
     "name": "stdout",
     "output_type": "stream",
     "text": [
      "20 30\n"
     ]
    }
   ],
   "source": [
    "# Через @classmethod \n",
    "mc_factory.info_count_workers_classmethod()"
   ]
  },
  {
   "cell_type": "code",
   "execution_count": 129,
   "id": "1f8c8413",
   "metadata": {},
   "outputs": [
    {
     "name": "stdout",
     "output_type": "stream",
     "text": [
      "buy_a_machine, count machine: 21\n"
     ]
    }
   ],
   "source": [
    "mc_factory.buy_a_machine()"
   ]
  },
  {
   "cell_type": "code",
   "execution_count": 130,
   "id": "7d3b2b23",
   "metadata": {},
   "outputs": [
    {
     "name": "stdout",
     "output_type": "stream",
     "text": [
      "hire_a_worker, count worker: 31\n"
     ]
    }
   ],
   "source": [
    "mc_factory.hire_a_worker()"
   ]
  },
  {
   "cell_type": "code",
   "execution_count": 131,
   "id": "3fae2944",
   "metadata": {},
   "outputs": [],
   "source": [
    "# New Factory\n",
    "mn_factory = FactoryDepartment()"
   ]
  },
  {
   "cell_type": "code",
   "execution_count": 134,
   "id": "b4a6597a",
   "metadata": {},
   "outputs": [
    {
     "data": {
      "text/plain": [
       "21"
      ]
     },
     "execution_count": 134,
     "metadata": {},
     "output_type": "execute_result"
    }
   ],
   "source": [
    "# Данные изменились \n",
    "mn_factory.machine"
   ]
  },
  {
   "cell_type": "code",
   "execution_count": 133,
   "id": "9cb088aa",
   "metadata": {},
   "outputs": [
    {
     "data": {
      "text/plain": [
       "31"
      ]
     },
     "execution_count": 133,
     "metadata": {},
     "output_type": "execute_result"
    }
   ],
   "source": [
    "# Данные изменились \n",
    "mn_factory.workers"
   ]
  },
  {
   "cell_type": "code",
   "execution_count": 135,
   "id": "cc0f963f",
   "metadata": {},
   "outputs": [
    {
     "name": "stdout",
     "output_type": "stream",
     "text": [
      "21\n"
     ]
    }
   ],
   "source": [
    "print(FactoryDepartment.machine)"
   ]
  },
  {
   "cell_type": "code",
   "execution_count": 136,
   "id": "2dd6be1f",
   "metadata": {},
   "outputs": [
    {
     "name": "stdout",
     "output_type": "stream",
     "text": [
      "31\n"
     ]
    }
   ],
   "source": [
    "print(FactoryDepartment.workers)"
   ]
  }
 ],
 "metadata": {
  "kernelspec": {
   "display_name": "Python 3 (ipykernel)",
   "language": "python",
   "name": "python3"
  },
  "language_info": {
   "codemirror_mode": {
    "name": "ipython",
    "version": 3
   },
   "file_extension": ".py",
   "mimetype": "text/x-python",
   "name": "python",
   "nbconvert_exporter": "python",
   "pygments_lexer": "ipython3",
   "version": "3.11.1"
  }
 },
 "nbformat": 4,
 "nbformat_minor": 5
}
