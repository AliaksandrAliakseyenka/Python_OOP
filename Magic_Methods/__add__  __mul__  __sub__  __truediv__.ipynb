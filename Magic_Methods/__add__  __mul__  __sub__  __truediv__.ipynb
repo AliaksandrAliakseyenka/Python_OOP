{
 "cells": [
  {
   "cell_type": "code",
   "execution_count": 194,
   "id": "564bd0fc",
   "metadata": {},
   "outputs": [],
   "source": [
    "class Vector:\n",
    "    \n",
    "    def __init__(self, *args):\n",
    "        self.values = sorted(args)\n",
    "        \n",
    "    def __str__(self):\n",
    "        if self.values:\n",
    "            create_generation = [str(i) for i in self.values]\n",
    "            return f\"Vector ({', '.join(create_generation)})\"\n",
    "        else:\n",
    "            return \"Пустой Vector\"\n",
    "    \n",
    "    def __add__(self, other):\n",
    "        if isinstance(other, int):\n",
    "            create_generation = [i + other for i in self.values]\n",
    "            return Vector(*create_generation)\n",
    "        elif isinstance(other, Vector):\n",
    "            if len(other.values) == len(self.values):\n",
    "                create_generation = [sum(i) for i in zip(self.values, other.values)]\n",
    "                return Vector(*create_generation)\n",
    "            else:\n",
    "                print(\"Сложение невозможно, кол-во элементов разное\")\n",
    "        else:\n",
    "            print(f\"Vector нельзя сложить с {other}\")\n",
    "            \n",
    "    def __mul__(self, other):\n",
    "        if isinstance(other, int):\n",
    "            create_generation = [i * other for i in self.values]\n",
    "            return Vector(*create_generation)\n",
    "        elif isinstance(other, Vector):\n",
    "            if len(other.values) == len(self.values):\n",
    "                create_generation = [i[0]*i[1] for i in zip(self.values, other.values)]\n",
    "                return Vector(*create_generation)\n",
    "            else:\n",
    "                print(\"Умножение невозможно, кол-во элементов разное\")\n",
    "        else:\n",
    "            print(f\"Vector нельзя умножить на {other}\")"
   ]
  },
  {
   "cell_type": "code",
   "execution_count": 195,
   "id": "faed3609",
   "metadata": {},
   "outputs": [],
   "source": [
    "ex_vector1 = Vector(2,1,4,6,5)"
   ]
  },
  {
   "cell_type": "code",
   "execution_count": 196,
   "id": "38c9e9da",
   "metadata": {},
   "outputs": [],
   "source": [
    "ex_vector2 = Vector()"
   ]
  },
  {
   "cell_type": "code",
   "execution_count": 197,
   "id": "e550e2b1",
   "metadata": {},
   "outputs": [
    {
     "name": "stdout",
     "output_type": "stream",
     "text": [
      "<class 'list'>\n",
      "[1, 2, 4, 5, 6]\n",
      "5\n",
      "Пустой Vector\n"
     ]
    }
   ],
   "source": [
    "print(type(ex_vector1.values))\n",
    "print(ex_vector1.values)\n",
    "print(len(ex_vector1.values))\n",
    "print(ex_vector2)"
   ]
  },
  {
   "cell_type": "code",
   "execution_count": 198,
   "id": "e43027e5",
   "metadata": {},
   "outputs": [],
   "source": [
    "ex_vector3 = Vector(10, 10, 10, 10, 10)"
   ]
  },
  {
   "cell_type": "code",
   "execution_count": 199,
   "id": "ead98357",
   "metadata": {},
   "outputs": [],
   "source": [
    "sum_vector = ex_vector1 + ex_vector3"
   ]
  },
  {
   "cell_type": "code",
   "execution_count": 200,
   "id": "3b04a0fb",
   "metadata": {},
   "outputs": [
    {
     "name": "stdout",
     "output_type": "stream",
     "text": [
      "Vector (11, 12, 14, 15, 16)\n"
     ]
    }
   ],
   "source": [
    "print(sum_vector)"
   ]
  },
  {
   "cell_type": "code",
   "execution_count": 201,
   "id": "bb72f368",
   "metadata": {},
   "outputs": [
    {
     "name": "stdout",
     "output_type": "stream",
     "text": [
      "Vector нельзя сложить с 5.5\n",
      "None\n"
     ]
    }
   ],
   "source": [
    "print(ex_vector1+5.5)"
   ]
  },
  {
   "cell_type": "code",
   "execution_count": 202,
   "id": "cdea3a3e",
   "metadata": {},
   "outputs": [
    {
     "name": "stdout",
     "output_type": "stream",
     "text": [
      "Vector (10, 20, 40, 50, 60)\n"
     ]
    }
   ],
   "source": [
    "mul_vector = ex_vector1 * ex_vector3\n",
    "print(mul_vector)"
   ]
  },
  {
   "cell_type": "code",
   "execution_count": 203,
   "id": "1c621c32",
   "metadata": {},
   "outputs": [
    {
     "name": "stdout",
     "output_type": "stream",
     "text": [
      "Vector нельзя умножить на 6.0\n",
      "None\n"
     ]
    }
   ],
   "source": [
    "print(ex_vector1* 6.0)"
   ]
  }
 ],
 "metadata": {
  "kernelspec": {
   "display_name": "Python 3 (ipykernel)",
   "language": "python",
   "name": "python3"
  },
  "language_info": {
   "codemirror_mode": {
    "name": "ipython",
    "version": 3
   },
   "file_extension": ".py",
   "mimetype": "text/x-python",
   "name": "python",
   "nbconvert_exporter": "python",
   "pygments_lexer": "ipython3",
   "version": "3.11.1"
  }
 },
 "nbformat": 4,
 "nbformat_minor": 5
}
