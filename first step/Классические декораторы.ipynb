{
 "cells": [
  {
   "cell_type": "code",
   "execution_count": 8,
   "id": "b845d4cf",
   "metadata": {},
   "outputs": [
    {
     "name": "stdout",
     "output_type": "stream",
     "text": [
      "A circle of radius 2\n",
      "A circle of radius 2 has the color red\n",
      "A circle of radius 2 has the color red has 28.999999999999996% transparency\n"
     ]
    }
   ],
   "source": [
    "from abc import ABC\n",
    "\n",
    "class Shape(ABC):\n",
    "    def __str__ (self):\n",
    "        return \"\"\n",
    "    \n",
    "    \n",
    "class Circle(Shape):\n",
    "    def __init__ (self, radius):\n",
    "        self.radius = radius\n",
    "    \n",
    "    def resize(self, factor):\n",
    "        self.radius *= factor\n",
    "    \n",
    "    def __str__ (self):\n",
    "        return f'A circle of radius {self.radius}'\n",
    "    \n",
    "    \n",
    "class Square(Shape): \n",
    "    def __init__ (self, side):\n",
    "        self.side = side\n",
    "    \n",
    "    def __str__(self):\n",
    "        return f'A square with side {self.side}'\n",
    "    \n",
    "    \n",
    "class ColoredShape(Shape):\n",
    "    def __init__ (self, shape, color):\n",
    "        if isinstance(shape, ColoredShape):\n",
    "            raise Exception ('Cannot apply sane decorator twice')\n",
    "        self.color = color \n",
    "        self.shape = shape\n",
    "        \n",
    "    def __str__ (self):\n",
    "        return f'{self.shape} has the color {self.color}'\n",
    "\n",
    "    \n",
    "class TransparentShape(Shape):\n",
    "    def __init__(self, shape, transparency):\n",
    "        self.shape = shape\n",
    "        self.transparency = transparency\n",
    "        \n",
    "    def __str__ (self):\n",
    "        return f'{self.shape} has {self.transparency*100.0}% transparency'\n",
    "    \n",
    "    \n",
    "if __name__ == '__main__':\n",
    "    circle = Circle(2)\n",
    "    print(circle)\n",
    "    \n",
    "    red_circle = ColoredShape(circle, 'red')\n",
    "    print(red_circle)\n",
    "    red_half_transparent_circle =  TransparentShape(red_circle,0.29)\n",
    "    print(red_half_transparent_circle)\n",
    "\n",
    "    "
   ]
  },
  {
   "cell_type": "code",
   "execution_count": null,
   "id": "715f52ba",
   "metadata": {},
   "outputs": [],
   "source": []
  }
 ],
 "metadata": {
  "kernelspec": {
   "display_name": "Python 3 (ipykernel)",
   "language": "python",
   "name": "python3"
  },
  "language_info": {
   "codemirror_mode": {
    "name": "ipython",
    "version": 3
   },
   "file_extension": ".py",
   "mimetype": "text/x-python",
   "name": "python",
   "nbconvert_exporter": "python",
   "pygments_lexer": "ipython3",
   "version": "3.11.0"
  }
 },
 "nbformat": 4,
 "nbformat_minor": 5
}
