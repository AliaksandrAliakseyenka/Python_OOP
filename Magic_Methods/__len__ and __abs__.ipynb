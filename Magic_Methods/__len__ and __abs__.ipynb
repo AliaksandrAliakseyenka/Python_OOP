{
 "cells": [
  {
   "cell_type": "code",
   "execution_count": 119,
   "id": "a4509a09",
   "metadata": {},
   "outputs": [
    {
     "data": {
      "text/plain": [
       "'\\n\\n__len__() – позволяет применять функцию len() к экземплярам класса;\\n__abs__() - позволяет применять функцию abs() к экземплярам класса.\\n\\n'"
      ]
     },
     "execution_count": 119,
     "metadata": {},
     "output_type": "execute_result"
    }
   ],
   "source": [
    "\"\"\"\n",
    "\n",
    "__len__() – позволяет применять функцию len() к экземплярам класса;\n",
    "__abs__() - позволяет применять функцию abs() к экземплярам класса.\n",
    "\n",
    "\"\"\""
   ]
  },
  {
   "cell_type": "code",
   "execution_count": 120,
   "id": "d61183a9",
   "metadata": {},
   "outputs": [],
   "source": [
    "class Point:\n",
    "    \n",
    "    def __init__(self, point_one, point_two):\n",
    "        self.point_one = point_one\n",
    "        self.point_two = point_two\n",
    "        \n",
    "    def __len__(self):\n",
    "        return len(str(self.point_one + self.point_two))\n",
    "    \n",
    "    def __abs__(self):\n",
    "        return abs(self.point_one - self.point_two)"
   ]
  },
  {
   "cell_type": "code",
   "execution_count": 121,
   "id": "8e6cc4e9",
   "metadata": {},
   "outputs": [],
   "source": [
    "p = Point(5, 9)"
   ]
  },
  {
   "cell_type": "code",
   "execution_count": 122,
   "id": "b8a46b55",
   "metadata": {},
   "outputs": [
    {
     "data": {
      "text/plain": [
       "2"
      ]
     },
     "execution_count": 122,
     "metadata": {},
     "output_type": "execute_result"
    }
   ],
   "source": [
    "len(p)"
   ]
  },
  {
   "cell_type": "code",
   "execution_count": 123,
   "id": "e585ad5c",
   "metadata": {},
   "outputs": [
    {
     "data": {
      "text/plain": [
       "4"
      ]
     },
     "execution_count": 123,
     "metadata": {},
     "output_type": "execute_result"
    }
   ],
   "source": [
    "abs(p)"
   ]
  }
 ],
 "metadata": {
  "kernelspec": {
   "display_name": "Python 3 (ipykernel)",
   "language": "python",
   "name": "python3"
  },
  "language_info": {
   "codemirror_mode": {
    "name": "ipython",
    "version": 3
   },
   "file_extension": ".py",
   "mimetype": "text/x-python",
   "name": "python",
   "nbconvert_exporter": "python",
   "pygments_lexer": "ipython3",
   "version": "3.11.1"
  }
 },
 "nbformat": 4,
 "nbformat_minor": 5
}
