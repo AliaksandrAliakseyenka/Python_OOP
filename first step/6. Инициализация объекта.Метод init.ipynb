{
 "cells": [
  {
   "cell_type": "code",
   "execution_count": 5,
   "id": "b3b1efdb",
   "metadata": {},
   "outputs": [],
   "source": [
    "\n",
    "class Cat:\n",
    "    breed = 'pers'\n",
    "    \n",
    "    # Не хочу вызывать в ручную, для этого использую __init__\n",
    "    # Могу создавать в момент инициализации\n",
    "    \n",
    "    # Когда есть __init__ функция set_value уже просто не нужна   \n",
    "#     def set_value (self, value, age = 0):\n",
    "#         self.name = value\n",
    "#         self.age = age\n",
    "         \n",
    "    \n",
    "    # Магический метод __init__\n",
    "    \n",
    "    # Каждый раз когда я создаю новую кошку, она будет заполняться значения из __init__\n",
    "    \n",
    "    # В функции init сейчас один обязательный аргумент это имя (можно поставить по умолчанию)\n",
    "    \n",
    "    def __init__ (self, name, breed = 'pers', age = 1 , color = 'black'):\n",
    "        print('Hello its new object', self,name, breed, age , color)\n",
    "        \n",
    "        # Атрибуты проставлены в момент инициализации\n",
    "        # Обычно пишут аргументы функции которые совпадают с именами атрибутов (что бы понять, что есть что)\n",
    "        \n",
    "        self.name = name\n",
    "        self.breed = breed\n",
    "        self.age = age\n",
    "        self.color = color"
   ]
  },
  {
   "cell_type": "code",
   "execution_count": 6,
   "id": "c08fe671",
   "metadata": {},
   "outputs": [
    {
     "name": "stdout",
     "output_type": "stream",
     "text": [
      "Hello its new object <__main__.Cat object at 0x103dd2e10> Bob pers 1 black\n"
     ]
    }
   ],
   "source": [
    "bob = Cat('Bob')"
   ]
  },
  {
   "cell_type": "code",
   "execution_count": 7,
   "id": "660c4177",
   "metadata": {},
   "outputs": [
    {
     "data": {
      "text/plain": [
       "<__main__.Cat at 0x103dd2e10>"
      ]
     },
     "execution_count": 7,
     "metadata": {},
     "output_type": "execute_result"
    }
   ],
   "source": [
    "bob"
   ]
  },
  {
   "cell_type": "code",
   "execution_count": 8,
   "id": "d0e3f0f3",
   "metadata": {},
   "outputs": [],
   "source": [
    "# bob.set_value('Bob',3)\n",
    "# bob.__dict__"
   ]
  },
  {
   "cell_type": "code",
   "execution_count": 9,
   "id": "2fb05f53",
   "metadata": {},
   "outputs": [
    {
     "name": "stdout",
     "output_type": "stream",
     "text": [
      "Hello its new object <__main__.Cat object at 0x103dfad10> Tim seam 2 black\n"
     ]
    }
   ],
   "source": [
    "jerry = Cat('Tim', 'seam', 2, 'black')"
   ]
  },
  {
   "cell_type": "code",
   "execution_count": 10,
   "id": "da1aee83",
   "metadata": {},
   "outputs": [
    {
     "data": {
      "text/plain": [
       "{'name': 'Tim', 'breed': 'seam', 'age': 2, 'color': 'black'}"
      ]
     },
     "execution_count": 10,
     "metadata": {},
     "output_type": "execute_result"
    }
   ],
   "source": [
    "jerry.__dict__"
   ]
  },
  {
   "cell_type": "code",
   "execution_count": 11,
   "id": "32037a61",
   "metadata": {},
   "outputs": [
    {
     "data": {
      "text/plain": [
       "'Tim'"
      ]
     },
     "execution_count": 11,
     "metadata": {},
     "output_type": "execute_result"
    }
   ],
   "source": [
    "jerry.name"
   ]
  },
  {
   "cell_type": "code",
   "execution_count": 8,
   "id": "bda3b86e",
   "metadata": {},
   "outputs": [
    {
     "name": "stdout",
     "output_type": "stream",
     "text": [
      "Hello its new object <__main__.Cat object at 0x107b81290> Walt pers 1 black\n"
     ]
    }
   ],
   "source": [
    "walt = Cat('Walt')"
   ]
  },
  {
   "cell_type": "code",
   "execution_count": 9,
   "id": "1dca7263",
   "metadata": {},
   "outputs": [
    {
     "data": {
      "text/plain": [
       "{'name': 'Walt', 'breed': 'pers', 'age': 1, 'color': 'black'}"
      ]
     },
     "execution_count": 9,
     "metadata": {},
     "output_type": "execute_result"
    }
   ],
   "source": [
    "walt.__dict__"
   ]
  },
  {
   "cell_type": "code",
   "execution_count": 10,
   "id": "6167e0f4",
   "metadata": {},
   "outputs": [
    {
     "name": "stdout",
     "output_type": "stream",
     "text": [
      "Hello its new object <__main__.Cat object at 0x107b81c90> Kelly pers 5 black\n"
     ]
    }
   ],
   "source": [
    "kelly = Cat('Kelly', age = 5)"
   ]
  },
  {
   "cell_type": "code",
   "execution_count": 11,
   "id": "b4aa9aa0",
   "metadata": {},
   "outputs": [
    {
     "data": {
      "text/plain": [
       "{'name': 'Kelly', 'breed': 'pers', 'age': 5, 'color': 'black'}"
      ]
     },
     "execution_count": 11,
     "metadata": {},
     "output_type": "execute_result"
    }
   ],
   "source": [
    "kelly.__dict__"
   ]
  }
 ],
 "metadata": {
  "kernelspec": {
   "display_name": "Python 3 (ipykernel)",
   "language": "python",
   "name": "python3"
  },
  "language_info": {
   "codemirror_mode": {
    "name": "ipython",
    "version": 3
   },
   "file_extension": ".py",
   "mimetype": "text/x-python",
   "name": "python",
   "nbconvert_exporter": "python",
   "pygments_lexer": "ipython3",
   "version": "3.11.1"
  }
 },
 "nbformat": 4,
 "nbformat_minor": 5
}
