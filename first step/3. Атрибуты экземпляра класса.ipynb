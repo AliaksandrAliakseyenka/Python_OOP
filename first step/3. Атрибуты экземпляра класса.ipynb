{
 "cells": [
  {
   "cell_type": "code",
   "execution_count": 5,
   "id": "491c5fe4",
   "metadata": {},
   "outputs": [],
   "source": [
    "# Class Car\n",
    "class Car:\n",
    "    #Внутри два атрибута\n",
    "    model = \"BMW\"\n",
    "    engine = 3.0"
   ]
  },
  {
   "cell_type": "code",
   "execution_count": 6,
   "id": "13624d09",
   "metadata": {},
   "outputs": [],
   "source": [
    "# Создал два экземпляра класса\n",
    "a1 = Car()\n",
    "a2 = Car()"
   ]
  },
  {
   "cell_type": "code",
   "execution_count": 7,
   "id": "7a418a5b",
   "metadata": {},
   "outputs": [
    {
     "data": {
      "text/plain": [
       "mappingproxy({'__module__': '__main__',\n",
       "              'model': 'BMW',\n",
       "              'engine': 3.0,\n",
       "              '__dict__': <attribute '__dict__' of 'Car' objects>,\n",
       "              '__weakref__': <attribute '__weakref__' of 'Car' objects>,\n",
       "              '__doc__': None})"
      ]
     },
     "execution_count": 7,
     "metadata": {},
     "output_type": "execute_result"
    }
   ],
   "source": [
    "Car.__dict__"
   ]
  },
  {
   "cell_type": "code",
   "execution_count": 8,
   "id": "69777cdf",
   "metadata": {},
   "outputs": [
    {
     "data": {
      "text/plain": [
       "'BMW'"
      ]
     },
     "execution_count": 8,
     "metadata": {},
     "output_type": "execute_result"
    }
   ],
   "source": [
    "a1.model"
   ]
  },
  {
   "cell_type": "code",
   "execution_count": 9,
   "id": "65ba0162",
   "metadata": {},
   "outputs": [
    {
     "data": {
      "text/plain": [
       "'BMW'"
      ]
     },
     "execution_count": 9,
     "metadata": {},
     "output_type": "execute_result"
    }
   ],
   "source": [
    "a2.model"
   ]
  },
  {
   "cell_type": "code",
   "execution_count": 10,
   "id": "5f9a2174",
   "metadata": {},
   "outputs": [
    {
     "data": {
      "text/plain": [
       "{}"
      ]
     },
     "execution_count": 10,
     "metadata": {},
     "output_type": "execute_result"
    }
   ],
   "source": [
    "# У экземпляра класса тоже можно посмотреть атрибуты __dict__\n",
    "a1.__dict__"
   ]
  },
  {
   "cell_type": "code",
   "execution_count": 11,
   "id": "dc4953ce",
   "metadata": {},
   "outputs": [],
   "source": [
    "#Создадим новый атрибут для а1\n",
    "a1.seat = 4 "
   ]
  },
  {
   "cell_type": "code",
   "execution_count": 12,
   "id": "1006c0d3",
   "metadata": {},
   "outputs": [
    {
     "data": {
      "text/plain": [
       "{'seat': 4}"
      ]
     },
     "execution_count": 12,
     "metadata": {},
     "output_type": "execute_result"
    }
   ],
   "source": [
    "a1.__dict__"
   ]
  },
  {
   "cell_type": "code",
   "execution_count": 13,
   "id": "2339fa87",
   "metadata": {},
   "outputs": [],
   "source": [
    "a1.model =\"Lada\""
   ]
  },
  {
   "cell_type": "code",
   "execution_count": 14,
   "id": "eab6a192",
   "metadata": {},
   "outputs": [
    {
     "data": {
      "text/plain": [
       "{'seat': 4, 'model': 'Lada'}"
      ]
     },
     "execution_count": 14,
     "metadata": {},
     "output_type": "execute_result"
    }
   ],
   "source": [
    "a1.__dict__"
   ]
  },
  {
   "cell_type": "code",
   "execution_count": 15,
   "id": "c36eb468",
   "metadata": {},
   "outputs": [],
   "source": [
    "a2.size = 80"
   ]
  },
  {
   "cell_type": "code",
   "execution_count": 20,
   "id": "9d63f81a",
   "metadata": {},
   "outputs": [
    {
     "data": {
      "text/plain": [
       "{'size': 80}"
      ]
     },
     "execution_count": 20,
     "metadata": {},
     "output_type": "execute_result"
    }
   ],
   "source": [
    "a2.__dict__"
   ]
  },
  {
   "cell_type": "code",
   "execution_count": 21,
   "id": "b2ac1223",
   "metadata": {},
   "outputs": [],
   "source": [
    "# Созданные атрибуты внутри экземпляра никак не сказываются на самом классе "
   ]
  },
  {
   "cell_type": "code",
   "execution_count": 22,
   "id": "4e479145",
   "metadata": {},
   "outputs": [],
   "source": [
    "# Но, если я создам новый атрибут внутри class Car() доступ к нему получу через экземпляры класса\n",
    "Car.number = \"4534\"\n"
   ]
  },
  {
   "cell_type": "code",
   "execution_count": 23,
   "id": "4bd28d38",
   "metadata": {},
   "outputs": [
    {
     "data": {
      "text/plain": [
       "'4534'"
      ]
     },
     "execution_count": 23,
     "metadata": {},
     "output_type": "execute_result"
    }
   ],
   "source": [
    "a1.number"
   ]
  },
  {
   "cell_type": "code",
   "execution_count": 24,
   "id": "a8b14868",
   "metadata": {},
   "outputs": [
    {
     "data": {
      "text/plain": [
       "'4534'"
      ]
     },
     "execution_count": 24,
     "metadata": {},
     "output_type": "execute_result"
    }
   ],
   "source": [
    "a2.number"
   ]
  },
  {
   "cell_type": "code",
   "execution_count": 25,
   "id": "067d5818",
   "metadata": {},
   "outputs": [
    {
     "data": {
      "text/plain": [
       "{'size': 80}"
      ]
     },
     "execution_count": 25,
     "metadata": {},
     "output_type": "execute_result"
    }
   ],
   "source": [
    "# Сделаю a2.__dict__ не увижу там number\n",
    "a2.__dict__\n",
    "# Пространство имен \n",
    "# Аналог локальные и глобальные переменные  "
   ]
  },
  {
   "cell_type": "code",
   "execution_count": null,
   "id": "01319114",
   "metadata": {},
   "outputs": [],
   "source": [
    "# Если удалю модель из экземпляра класса, то вслед запросе я получу модель глобального "
   ]
  }
 ],
 "metadata": {
  "kernelspec": {
   "display_name": "Python 3 (ipykernel)",
   "language": "python",
   "name": "python3"
  },
  "language_info": {
   "codemirror_mode": {
    "name": "ipython",
    "version": 3
   },
   "file_extension": ".py",
   "mimetype": "text/x-python",
   "name": "python",
   "nbconvert_exporter": "python",
   "pygments_lexer": "ipython3",
   "version": "3.11.1"
  }
 },
 "nbformat": 4,
 "nbformat_minor": 5
}
