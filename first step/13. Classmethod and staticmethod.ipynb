{
 "cells": [
  {
   "cell_type": "code",
   "execution_count": 49,
   "id": "e7d684c1",
   "metadata": {},
   "outputs": [],
   "source": [
    "# Classmethod and staticmethod\n",
    "# Для того, что бы могли вызывать от instance\n",
    "\n",
    "class Car:\n",
    "    \n",
    "    \n",
    "    def car_bmw ():\n",
    "        print(\"BMW\")\n",
    "    \n",
    "    def car_vw (self):\n",
    "        print(f\"VW {self}\")\n",
    "    \n",
    "    @staticmethod\n",
    "    def static_car():\n",
    "        print(\"static_car\")\n",
    "        \n",
    "    @classmethod    \n",
    "    def class_car_vw (cls):\n",
    "        print(f\"class_car_vw {cls}\")\n",
    "        "
   ]
  },
  {
   "cell_type": "code",
   "execution_count": 50,
   "id": "1b35d001",
   "metadata": {},
   "outputs": [
    {
     "data": {
      "text/plain": [
       "<function __main__.Car.car_bmw()>"
      ]
     },
     "execution_count": 50,
     "metadata": {},
     "output_type": "execute_result"
    }
   ],
   "source": [
    "# Ссылаемся на def который находится в нашем class \n",
    "Car.car_bmw"
   ]
  },
  {
   "cell_type": "code",
   "execution_count": 51,
   "id": "7c1ba9c2",
   "metadata": {},
   "outputs": [
    {
     "name": "stdout",
     "output_type": "stream",
     "text": [
      "BMW\n"
     ]
    }
   ],
   "source": [
    "# Вызываю от class\n",
    "# Ошибок нет\n",
    "Car.car_bmw()"
   ]
  },
  {
   "cell_type": "code",
   "execution_count": 52,
   "id": "fbe792b4",
   "metadata": {},
   "outputs": [
    {
     "data": {
      "text/plain": [
       "<bound method Car.car_bmw of <__main__.Car object at 0x104a38190>>"
      ]
     },
     "execution_count": 52,
     "metadata": {},
     "output_type": "execute_result"
    }
   ],
   "source": [
    "# Create instance\n",
    "a = Car()\n",
    "a.car_bmw\n",
    "# Вижу что это уже метод "
   ]
  },
  {
   "cell_type": "code",
   "execution_count": 53,
   "id": "47e1fcd1",
   "metadata": {},
   "outputs": [
    {
     "ename": "TypeError",
     "evalue": "Car.car_bmw() takes 0 positional arguments but 1 was given",
     "output_type": "error",
     "traceback": [
      "\u001b[0;31m---------------------------------------------------------------------------\u001b[0m",
      "\u001b[0;31mTypeError\u001b[0m                                 Traceback (most recent call last)",
      "Cell \u001b[0;32mIn[53], line 3\u001b[0m\n\u001b[1;32m      1\u001b[0m \u001b[38;5;66;03m# После вызова будет ошибка: takes 0 positional arguments but 1 was given\u001b[39;00m\n\u001b[1;32m      2\u001b[0m \u001b[38;5;66;03m# При вызове этого метода, первым параметром будет лететь сам instance class\u001b[39;00m\n\u001b[0;32m----> 3\u001b[0m \u001b[43ma\u001b[49m\u001b[38;5;241;43m.\u001b[39;49m\u001b[43mcar_bmw\u001b[49m\u001b[43m(\u001b[49m\u001b[43m)\u001b[49m\n",
      "\u001b[0;31mTypeError\u001b[0m: Car.car_bmw() takes 0 positional arguments but 1 was given"
     ]
    }
   ],
   "source": [
    "# После вызова будет ошибка: takes 0 positional arguments but 1 was given\n",
    "# При вызове этого метода, первым параметром будет лететь сам instance class\n",
    "a.car_bmw()"
   ]
  },
  {
   "cell_type": "code",
   "execution_count": 54,
   "id": "0fb6441a",
   "metadata": {},
   "outputs": [],
   "source": [
    "b = Car()"
   ]
  },
  {
   "cell_type": "code",
   "execution_count": 55,
   "id": "18701c4d",
   "metadata": {},
   "outputs": [
    {
     "name": "stdout",
     "output_type": "stream",
     "text": [
      "VW <__main__.Car object at 0x104d8acd0>\n"
     ]
    },
    {
     "data": {
      "text/plain": [
       "<__main__.Car at 0x104d8acd0>"
      ]
     },
     "execution_count": 55,
     "metadata": {},
     "output_type": "execute_result"
    }
   ],
   "source": [
    "b.car_vw()\n",
    "b"
   ]
  },
  {
   "cell_type": "code",
   "execution_count": 56,
   "id": "7e4d8ab8",
   "metadata": {},
   "outputs": [
    {
     "ename": "TypeError",
     "evalue": "Car.car_vw() missing 1 required positional argument: 'self'",
     "output_type": "error",
     "traceback": [
      "\u001b[0;31m---------------------------------------------------------------------------\u001b[0m",
      "\u001b[0;31mTypeError\u001b[0m                                 Traceback (most recent call last)",
      "Cell \u001b[0;32mIn[56], line 2\u001b[0m\n\u001b[1;32m      1\u001b[0m \u001b[38;5;66;03m# Но теперь не могу вызвать от самого class\u001b[39;00m\n\u001b[0;32m----> 2\u001b[0m \u001b[43mCar\u001b[49m\u001b[38;5;241;43m.\u001b[39;49m\u001b[43mcar_vw\u001b[49m\u001b[43m(\u001b[49m\u001b[43m)\u001b[49m\n\u001b[1;32m      3\u001b[0m \u001b[38;5;66;03m# Потому, что когда вызываем от class, то сама эта функция не будет привязана\u001b[39;00m\n\u001b[1;32m      4\u001b[0m \u001b[38;5;66;03m# к этому классу и он не будет поступать в качестве обязательного аргумента self\u001b[39;00m\n",
      "\u001b[0;31mTypeError\u001b[0m: Car.car_vw() missing 1 required positional argument: 'self'"
     ]
    }
   ],
   "source": [
    "# Но теперь не могу вызвать от самого class\n",
    "Car.car_vw()\n",
    "# Потому, что когда вызываем от class, то сама эта функция не будет привязана\n",
    "# к этому классу и он не будет поступать в качестве обязательного аргумента self"
   ]
  },
  {
   "cell_type": "code",
   "execution_count": 57,
   "id": "155353d0",
   "metadata": {},
   "outputs": [],
   "source": [
    "# Первую функцию можем вызвать от класса, но не можем вызвать от instance\n",
    "# Вторую же можем вызвать от instance, но не можем вызвать от class \n",
    "\n",
    "# Вопрос как можно создать def которая будет вызываться от instance и от class ?\n",
    "# Ответ нужно создать staticmethod повесить декоратор"
   ]
  },
  {
   "cell_type": "code",
   "execution_count": 58,
   "id": "d345a59f",
   "metadata": {},
   "outputs": [
    {
     "name": "stdout",
     "output_type": "stream",
     "text": [
      "static_car\n"
     ]
    }
   ],
   "source": [
    "Car.static_car\n",
    "Car.static_car()"
   ]
  },
  {
   "cell_type": "code",
   "execution_count": 47,
   "id": "84068510",
   "metadata": {},
   "outputs": [
    {
     "name": "stdout",
     "output_type": "stream",
     "text": [
      "static_car\n"
     ]
    }
   ],
   "source": [
    "a_static = Car()\n",
    "a_static.static_car()"
   ]
  },
  {
   "cell_type": "code",
   "execution_count": 59,
   "id": "d3f0afd1",
   "metadata": {},
   "outputs": [
    {
     "name": "stdout",
     "output_type": "stream",
     "text": [
      "class_car_vw <class '__main__.Car'>\n"
     ]
    }
   ],
   "source": [
    "Car.class_car_vw()"
   ]
  },
  {
   "cell_type": "code",
   "execution_count": 61,
   "id": "d8c16c2b",
   "metadata": {},
   "outputs": [
    {
     "name": "stdout",
     "output_type": "stream",
     "text": [
      "class_car_vw <class '__main__.Car'>\n"
     ]
    }
   ],
   "source": [
    "b_cls = Car()\n",
    "b_cls.class_car_vw()"
   ]
  },
  {
   "cell_type": "code",
   "execution_count": 62,
   "id": "bd1086e8",
   "metadata": {},
   "outputs": [
    {
     "data": {
      "text/plain": [
       "__main__.Car"
      ]
     },
     "execution_count": 62,
     "metadata": {},
     "output_type": "execute_result"
    }
   ],
   "source": [
    "b_cls.__class__"
   ]
  }
 ],
 "metadata": {
  "kernelspec": {
   "display_name": "Python 3 (ipykernel)",
   "language": "python",
   "name": "python3"
  },
  "language_info": {
   "codemirror_mode": {
    "name": "ipython",
    "version": 3
   },
   "file_extension": ".py",
   "mimetype": "text/x-python",
   "name": "python",
   "nbconvert_exporter": "python",
   "pygments_lexer": "ipython3",
   "version": "3.11.1"
  }
 },
 "nbformat": 4,
 "nbformat_minor": 5
}
