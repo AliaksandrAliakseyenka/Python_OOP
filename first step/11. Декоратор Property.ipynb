{
 "cells": [
  {
   "cell_type": "code",
   "execution_count": 19,
   "id": "eaf82db5",
   "metadata": {},
   "outputs": [],
   "source": [
    "class BankAccount:\n",
    "    \n",
    "    def __init__(self,name,balance):\n",
    "        print(f\"Create new user {name}, your balance is {balance}\")\n",
    "        self.name = name \n",
    "        self.__balance = balance\n",
    "        \n",
    "    def get_balance(self):\n",
    "        print(f\"get_balance : {self.__balance}\")\n",
    "        return self.__balance\n",
    "    \n",
    "    def set_balance(self, value):\n",
    "        print(f\"set_balance : {value}\")\n",
    "        if not isinstance(value, (int, float)):\n",
    "            raise ValueError (\"Balance must be a number\")\n",
    "        self.__balance = value\n",
    "        \n",
    "    def delete_balance(self):\n",
    "        print('Delete balance')\n",
    "        del self.__balance\n",
    "    \n",
    "    my_balance = property(get_balance)\n",
    "    my_balance = my_balance.setter(set_balance)\n",
    "    my_balance = my_balance.deleter(delete_balance)\n",
    "    "
   ]
  },
  {
   "cell_type": "code",
   "execution_count": 20,
   "id": "14720dec",
   "metadata": {},
   "outputs": [
    {
     "name": "stdout",
     "output_type": "stream",
     "text": [
      "Create new user Sasha, your balance is 150\n"
     ]
    }
   ],
   "source": [
    "a = BankAccount(\"Sasha\", 150)"
   ]
  },
  {
   "cell_type": "code",
   "execution_count": 21,
   "id": "cf3ef8d3",
   "metadata": {},
   "outputs": [
    {
     "name": "stdout",
     "output_type": "stream",
     "text": [
      "get_balance : 150\n"
     ]
    },
    {
     "data": {
      "text/plain": [
       "150"
      ]
     },
     "execution_count": 21,
     "metadata": {},
     "output_type": "execute_result"
    }
   ],
   "source": [
    "a.my_balance"
   ]
  },
  {
   "cell_type": "code",
   "execution_count": 22,
   "id": "e0f6a9ca",
   "metadata": {},
   "outputs": [
    {
     "name": "stdout",
     "output_type": "stream",
     "text": [
      "set_balance : 299\n"
     ]
    }
   ],
   "source": [
    "a.my_balance = 299"
   ]
  },
  {
   "cell_type": "code",
   "execution_count": null,
   "id": "1bf0c579",
   "metadata": {},
   "outputs": [],
   "source": []
  }
 ],
 "metadata": {
  "kernelspec": {
   "display_name": "Python 3 (ipykernel)",
   "language": "python",
   "name": "python3"
  },
  "language_info": {
   "codemirror_mode": {
    "name": "ipython",
    "version": 3
   },
   "file_extension": ".py",
   "mimetype": "text/x-python",
   "name": "python",
   "nbconvert_exporter": "python",
   "pygments_lexer": "ipython3",
   "version": "3.11.0"
  }
 },
 "nbformat": 4,
 "nbformat_minor": 5
}
